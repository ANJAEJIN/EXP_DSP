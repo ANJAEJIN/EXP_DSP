{
 "cells": [
  {
   "cell_type": "markdown",
   "metadata": {},
   "source": [
    "## Import modules"
   ]
  },
  {
   "cell_type": "code",
   "execution_count": 1,
   "metadata": {},
   "outputs": [
    {
     "name": "stderr",
     "output_type": "stream",
     "text": [
      "/Users/jaejinan/.pyenv/versions/anaconda3-5.1.0/lib/python3.6/site-packages/h5py/__init__.py:36: FutureWarning: Conversion of the second argument of issubdtype from `float` to `np.floating` is deprecated. In future, it will be treated as `np.float64 == np.dtype(float).type`.\n",
      "  from ._conv import register_converters as _register_converters\n",
      "Using TensorFlow backend.\n"
     ]
    }
   ],
   "source": [
    "import numpy as np\n",
    "import os\n",
    "from numpy import linalg as LA\n",
    "import librosa\n",
    "import keras\n",
    "from keras.utils import np_utils\n",
    "from keras.models import Sequential\n",
    "from keras.layers import Conv1D,MaxPooling1D,Conv2D,MaxPooling2D,Dense,Flatten,Dropout\n",
    "from keras import backend as K\n",
    "import pandas as pd\n",
    "import cv2\n",
    "from PIL import Image\n",
    "import time\n",
    "%matplotlib inline\n",
    "import matplotlib.pyplot as plt\n",
    "from mpl_toolkits.mplot3d import Axes3D\n",
    "import random\n",
    "#from pylab import *\n",
    "import math"
   ]
  },
  {
   "cell_type": "markdown",
   "metadata": {},
   "source": [
    "## Load row datas"
   ]
  },
  {
   "cell_type": "code",
   "execution_count": 2,
   "metadata": {},
   "outputs": [],
   "source": [
    "Datas=np.load(\"./npy/Datas.npy\")"
   ]
  },
  {
   "cell_type": "markdown",
   "metadata": {},
   "source": [
    "## 2. Mel Frequency Cepstral Coefficient (MFCC)"
   ]
  },
  {
   "cell_type": "markdown",
   "metadata": {},
   "source": [
    "## Data processing"
   ]
  },
  {
   "cell_type": "code",
   "execution_count": 22,
   "metadata": {},
   "outputs": [],
   "source": [
    "MFCCs = []\n",
    "Label = []\n",
    "file_static = []\n",
    "for a in range(0,len(Datas)):\n",
    "    for b in Datas[a]:\n",
    "        mfcc = librosa.feature.mfcc(y=b, sr=44100,n_mfcc=20)\n",
    "        MFCCs.append(mfcc)\n",
    "        Label.append(a)"
   ]
  },
  {
   "cell_type": "markdown",
   "metadata": {},
   "source": [
    "## Save and Load"
   ]
  },
  {
   "cell_type": "code",
   "execution_count": 23,
   "metadata": {},
   "outputs": [],
   "source": [
    "MFCCs=np.array(MFCCs)\n",
    "Label=np.array(Label)"
   ]
  },
  {
   "cell_type": "code",
   "execution_count": 24,
   "metadata": {},
   "outputs": [],
   "source": [
    "np.save(\"./npy/MFCCs\",MFCCs)\n",
    "np.save(\"./npy/Label\",Label)"
   ]
  },
  {
   "cell_type": "code",
   "execution_count": 25,
   "metadata": {},
   "outputs": [],
   "source": [
    "MFCCs=np.load(\"./npy/MFCCs.npy\")\n",
    "Label=np.load(\"./npy/Label.npy\")"
   ]
  },
  {
   "cell_type": "markdown",
   "metadata": {},
   "source": [
    "## 2-1. Euclidean distance"
   ]
  },
  {
   "cell_type": "code",
   "execution_count": 26,
   "metadata": {},
   "outputs": [],
   "source": [
    "MMFFCCs = []\n",
    "for i in range(0,5):\n",
    "    tmp = []\n",
    "    for j in range(0,80):\n",
    "        tmp.append(MFCCs[80*i+j])\n",
    "    MMFFCCs.append(tmp)\n",
    "\n",
    "MMFFCCss = []\n",
    "for a in MMFFCCs:\n",
    "    tmp = []\n",
    "    for b in a:\n",
    "        if(len(tmp) == 0):\n",
    "            tmp.append(b)\n",
    "        tmp = tmp + b\n",
    "    tmp= tmp/80\n",
    "    MMFFCCss.append(tmp)\n",
    "    \n",
    "MMFFCCs = np.array(MMFFCCs)\n",
    "MMFFCCss = np.array(MMFFCCss)\n",
    "#MMFFCCss[level_num][mfcc]\n",
    "#level_num : 0~4(5 classes)\n",
    "#mfcc : 20*18 dataset\n",
    "\n",
    "#MMFFCCs[level_num][file_num][mfcc]\n",
    "#level_num : 0~4(5 classes)\n",
    "#file_num : 0~79(20*4 files)\n",
    "#mfcc : 20*18 dataset"
   ]
  },
  {
   "cell_type": "code",
   "execution_count": 27,
   "metadata": {},
   "outputs": [],
   "source": [
    "ED2 = []\n",
    "for a in range(0,len(MMFFCCs)):\n",
    "    tmp_1 = []\n",
    "    for b in MMFFCCs[a]:\n",
    "        tmp_2 = []\n",
    "        for c in MMFFCCss:\n",
    "            tmp_2.append(LA.norm(c-b))\n",
    "        mm = min(tmp_2)\n",
    "        for i in range(0,len(tmp_2)):\n",
    "            if(tmp_2[i] == mm):\n",
    "                tmp_2.append(i)\n",
    "                if(i == a):\n",
    "                    tmp_2.append(1)\n",
    "                else:\n",
    "                    tmp_2.append(0)\n",
    "        tmp_1.append(tmp_2)\n",
    "    ED2.append(tmp_1)\n",
    "#ED2[level_num][file_num][distance&result]\n",
    "#level_num : 0~4(5 classes)\n",
    "#file_num : 0~79(20*4 files)\n",
    "#static : {0~4:distance by level,5:result,6:T/F}"
   ]
  },
  {
   "cell_type": "code",
   "execution_count": 28,
   "metadata": {},
   "outputs": [
    {
     "name": "stdout",
     "output_type": "stream",
     "text": [
      "level0:62.5\n",
      "level1:40.0\n",
      "level2:46.25\n",
      "level3:86.25\n",
      "level4:52.5\n",
      "all:57.49999999999999\n"
     ]
    }
   ],
   "source": [
    "count = 0\n",
    "for a in range(0,len(ED2)):\n",
    "    cou = 0\n",
    "    for b in ED2[a]:\n",
    "        if(b[6]==1):\n",
    "            cou = cou + 1\n",
    "            count = count + 1\n",
    "    print(\"level{0}:{1}\".format(a,cou/len(ED2[0])*100))\n",
    "print(\"all:{}\".format(count/len(ED2[0])/5*100))"
   ]
  },
  {
   "cell_type": "code",
   "execution_count": 29,
   "metadata": {},
   "outputs": [
    {
     "name": "stdout",
     "output_type": "stream",
     "text": [
      "[[50 18  8  0  4]\n",
      " [21 32 11  0 16]\n",
      " [11  8 37  2 22]\n",
      " [ 0  2  2 69  7]\n",
      " [ 6 12 12  8 42]]\n"
     ]
    }
   ],
   "source": [
    "from sklearn.metrics import confusion_matrix\n",
    "test = []\n",
    "for i in range(0,5):\n",
    "    for j in range(0,80):\n",
    "        test.append(i)\n",
    "pred = []\n",
    "for a in range(0,len(ED2)):\n",
    "    for b in ED2[a]:\n",
    "        pred.append(b[5])\n",
    "\n",
    "print(confusion_matrix(test, pred))"
   ]
  },
  {
   "cell_type": "markdown",
   "metadata": {},
   "source": [
    "## 2-2. Classifier"
   ]
  },
  {
   "cell_type": "code",
   "execution_count": 30,
   "metadata": {},
   "outputs": [],
   "source": [
    "MFCCC = []\n",
    "for a in MFCCs:\n",
    "    tmp = []\n",
    "    for b in range(0,len(a)):\n",
    "        tmp.append(np.mean(a[b]))\n",
    "    MFCCC.append(tmp)\n",
    "MFCCC = np.array(MFCCC)"
   ]
  },
  {
   "cell_type": "code",
   "execution_count": 31,
   "metadata": {},
   "outputs": [
    {
     "data": {
      "text/plain": [
       "<matplotlib.axes._subplots.AxesSubplot at 0x1c3026a908>"
      ]
     },
     "execution_count": 31,
     "metadata": {},
     "output_type": "execute_result"
    },
    {
     "data": {
      "image/png": "[encoded data removed]",
      "text/plain": [
       "<Figure size 432x288 with 1 Axes>"
      ]
     },
     "metadata": {},
     "output_type": "display_data"
    }
   ],
   "source": [
    "import matplotlib.pyplot as plt\n",
    "import seaborn as sns\n",
    "\n",
    "from sklearn.model_selection import StratifiedShuffleSplit\n",
    "from sklearn.metrics import accuracy_score, log_loss\n",
    "from sklearn.neighbors import KNeighborsClassifier\n",
    "from sklearn.svm import SVC\n",
    "from sklearn.tree import DecisionTreeClassifier\n",
    "from sklearn.ensemble import RandomForestClassifier, AdaBoostClassifier, GradientBoostingClassifier\n",
    "from sklearn.naive_bayes import GaussianNB\n",
    "from sklearn.discriminant_analysis import LinearDiscriminantAnalysis, QuadraticDiscriminantAnalysis\n",
    "from sklearn.linear_model import LogisticRegression\n",
    "\n",
    "classifiers = [\n",
    "    KNeighborsClassifier(3),\n",
    "    SVC(probability=True),\n",
    "    DecisionTreeClassifier(),\n",
    "    RandomForestClassifier(),\n",
    "    AdaBoostClassifier(),\n",
    "    GradientBoostingClassifier(),\n",
    "    GaussianNB(),\n",
    "    LinearDiscriminantAnalysis(),\n",
    "    QuadraticDiscriminantAnalysis(),\n",
    "    LogisticRegression()]\n",
    "\n",
    "log_cols = [\"Classifier\", \"Accuracy\"]\n",
    "log      = pd.DataFrame(columns=log_cols)\n",
    "\n",
    "sss = StratifiedShuffleSplit(n_splits=10, test_size=0.1, random_state=0)\n",
    "\n",
    "X = MFCCC\n",
    "y = Label\n",
    "\n",
    "acc_dict = {}\n",
    "\n",
    "for train_index, test_index in sss.split(X, y):\n",
    "    X_train, X_test = X[train_index], X[test_index]\n",
    "    y_train, y_test = y[train_index], y[test_index]\n",
    "\n",
    "    for clf in classifiers:\n",
    "        name = clf.__class__.__name__\n",
    "        clf.fit(X_train, y_train)\n",
    "        train_predictions = clf.predict(X_test)\n",
    "        acc = accuracy_score(y_test, train_predictions)\n",
    "        if name in acc_dict:\n",
    "            acc_dict[name] += acc\n",
    "        else:\n",
    "            acc_dict[name] = acc\n",
    "\n",
    "for clf in acc_dict:\n",
    "    acc_dict[clf] = acc_dict[clf] / 10.0\n",
    "    log_entry = pd.DataFrame([[clf, acc_dict[clf]]], columns=log_cols)\n",
    "    log = log.append(log_entry)\n",
    "\n",
    "plt.xlabel('Accuracy')\n",
    "plt.title('Classifier Accuracy')\n",
    "\n",
    "sns.set_color_codes(\"muted\")\n",
    "sns.barplot(x='Accuracy', y='Classifier', data=log, color=\"b\")\n",
    "#plt.savefig('./MFCC.pdf', dpi=600)"
   ]
  },
  {
   "cell_type": "markdown",
   "metadata": {},
   "source": [
    "## 2-3. CNN"
   ]
  },
  {
   "cell_type": "code",
   "execution_count": 32,
   "metadata": {},
   "outputs": [],
   "source": [
    "initialData = []\n",
    "initialLabel = []\n",
    "for a in range(0,len(Datas)):\n",
    "    for b in Datas[a]:\n",
    "        mfcc = librosa.feature.mfcc(y=b, sr=44100,n_mfcc=20,hop_length=100)\n",
    "        initialData.append(mfcc.T)\n",
    "        initialLabel.append(a)\n",
    "initialData = np.array(initialData)\n",
    "initialLabel = np.array(initialLabel)"
   ]
  },
  {
   "cell_type": "code",
   "execution_count": 33,
   "metadata": {},
   "outputs": [
    {
     "name": "stdout",
     "output_type": "stream",
     "text": [
      "got train and test set\n"
     ]
    }
   ],
   "source": [
    "s = np.arange(400)\n",
    "np.random.shuffle(s)\n",
    "initialData = initialData[s]\n",
    "initialLabel = initialLabel[s]\n",
    "trainData = initialData[:320]\n",
    "trainLabel = initialLabel[:320]\n",
    "testData = initialData[320:]\n",
    "testLabel = initialLabel[320:]\n",
    "print('got train and test set')"
   ]
  },
  {
   "cell_type": "code",
   "execution_count": 34,
   "metadata": {},
   "outputs": [],
   "source": [
    "input_shape = (trainData.shape[1], 20)\n",
    "trainData = trainData.reshape(320, trainData.shape[1], 20)\n",
    "testData = testData.reshape(80, trainData.shape[1], 20)\n",
    "trainLabel = keras.utils.to_categorical(trainLabel,5)\n",
    "testLabel = keras.utils.to_categorical(testLabel,5)"
   ]
  },
  {
   "cell_type": "code",
   "execution_count": 35,
   "metadata": {},
   "outputs": [],
   "source": [
    "model = Sequential()\n",
    "model.add(Conv1D(64, kernel_size=(4), activation=\"relu\", input_shape=input_shape))\n",
    "model.add(MaxPooling1D(pool_size=(3)))\n",
    "model.add(Dropout(0.1))\n",
    "model.add(Conv1D(128, kernel_size=(4), activation=\"relu\"))\n",
    "model.add(MaxPooling1D(pool_size=(3)))\n",
    "model.add(Dropout(0.1))\n",
    "model.add(Conv1D(80, kernel_size=(1), activation=\"relu\"))\n",
    "model.add(Flatten())\n",
    "model.add(Dense(64, activation='relu'))\n",
    "model.add(Dropout(0.5))\n",
    "model.add(Dense(5, activation='softmax'))"
   ]
  },
  {
   "cell_type": "code",
   "execution_count": 36,
   "metadata": {},
   "outputs": [
    {
     "name": "stdout",
     "output_type": "stream",
     "text": [
      "_________________________________________________________________\n",
      "Layer (type)                 Output Shape              Param #   \n",
      "=================================================================\n",
      "conv1d_1 (Conv1D)            (None, 86, 64)            5184      \n",
      "_________________________________________________________________\n",
      "max_pooling1d_1 (MaxPooling1 (None, 28, 64)            0         \n",
      "_________________________________________________________________\n",
      "dropout_1 (Dropout)          (None, 28, 64)            0         \n",
      "_________________________________________________________________\n",
      "conv1d_2 (Conv1D)            (None, 25, 128)           32896     \n",
      "_________________________________________________________________\n",
      "max_pooling1d_2 (MaxPooling1 (None, 8, 128)            0         \n",
      "_________________________________________________________________\n",
      "dropout_2 (Dropout)          (None, 8, 128)            0         \n",
      "_________________________________________________________________\n",
      "conv1d_3 (Conv1D)            (None, 8, 80)             10320     \n",
      "_________________________________________________________________\n",
      "flatten_1 (Flatten)          (None, 640)               0         \n",
      "_________________________________________________________________\n",
      "dense_1 (Dense)              (None, 64)                41024     \n",
      "_________________________________________________________________\n",
      "dropout_3 (Dropout)          (None, 64)                0         \n",
      "_________________________________________________________________\n",
      "dense_2 (Dense)              (None, 5)                 325       \n",
      "=================================================================\n",
      "Total params: 89,749\n",
      "Trainable params: 89,749\n",
      "Non-trainable params: 0\n",
      "_________________________________________________________________\n"
     ]
    }
   ],
   "source": [
    "model.summary()"
   ]
  },
  {
   "cell_type": "code",
   "execution_count": 37,
   "metadata": {},
   "outputs": [],
   "source": [
    "from keras.optimizers import Adam\n",
    "model.compile(loss=\"categorical_crossentropy\", optimizer=Adam(), metrics=['accuracy']) # lr=0.0005, beta_1=0.8, beta_2=0.9"
   ]
  },
  {
   "cell_type": "code",
   "execution_count": 38,
   "metadata": {},
   "outputs": [],
   "source": [
    "json_string = model.to_json()\n",
    "open('./mfcc.json', 'w').write(json_string)\n",
    "model.save_weights('./mfcc.hdf5', overwrite=True)"
   ]
  },
  {
   "cell_type": "code",
   "execution_count": 39,
   "metadata": {},
   "outputs": [],
   "source": [
    "#See progress of learning at TensorBoard\n",
    "tb_cb = keras.callbacks.TensorBoard(log_dir='./', histogram_freq=1)\n",
    "# If the validation loss decreases, save the model for each epoch\n",
    "cp_cb = keras.callbacks.ModelCheckpoint(filepath='./mfcc.hdf5',\n",
    "                                        monitor='val_acc',\n",
    "                                        verbose=1,\n",
    "                                        save_best_only=True,\n",
    "                                        mode='max')\n",
    "# If the validation loss rises for 5 epochs in a row, the run is aborted\n",
    "es_cb = keras.callbacks.EarlyStopping(monitor='val_acc',\n",
    "                                      patience=30,\n",
    "                                      verbose=0,\n",
    "                                      mode='max')\n",
    "cbks = [tb_cb, cp_cb, es_cb]"
   ]
  },
  {
   "cell_type": "code",
   "execution_count": 40,
   "metadata": {},
   "outputs": [
    {
     "name": "stderr",
     "output_type": "stream",
     "text": [
      "/Users/jaejinan/.pyenv/versions/anaconda3-5.1.0/lib/python3.6/site-packages/ipykernel_launcher.py:8: UserWarning: The `nb_epoch` argument in `fit` has been renamed `epochs`.\n",
      "  \n"
     ]
    },
    {
     "name": "stdout",
     "output_type": "stream",
     "text": [
      "Train on 240 samples, validate on 80 samples\n",
      "Epoch 1/200\n",
      "240/240 [==============================] - 0s 2ms/step - loss: 11.2928 - acc: 0.2208 - val_loss: 11.6672 - val_acc: 0.2125\n",
      "\n",
      "Epoch 00001: val_acc improved from -inf to 0.21250, saving model to ./mfcc.hdf5\n",
      "Epoch 2/200\n",
      "240/240 [==============================] - 0s 289us/step - loss: 11.9699 - acc: 0.2167 - val_loss: 12.6930 - val_acc: 0.2125\n",
      "\n",
      "Epoch 00002: val_acc did not improve from 0.21250\n",
      "Epoch 3/200\n",
      "240/240 [==============================] - 0s 285us/step - loss: 11.9704 - acc: 0.1917 - val_loss: 10.4369 - val_acc: 0.1875\n",
      "\n",
      "Epoch 00003: val_acc did not improve from 0.21250\n",
      "Epoch 4/200\n",
      "240/240 [==============================] - 0s 255us/step - loss: 11.7462 - acc: 0.2000 - val_loss: 10.8696 - val_acc: 0.2125\n",
      "\n",
      "Epoch 00004: val_acc did not improve from 0.21250\n",
      "Epoch 5/200\n",
      "240/240 [==============================] - 0s 269us/step - loss: 11.0290 - acc: 0.1667 - val_loss: 4.4212 - val_acc: 0.2125\n",
      "\n",
      "Epoch 00005: val_acc did not improve from 0.21250\n",
      "Epoch 6/200\n",
      "240/240 [==============================] - 0s 278us/step - loss: 6.1798 - acc: 0.2000 - val_loss: 2.0423 - val_acc: 0.2000\n",
      "\n",
      "Epoch 00006: val_acc did not improve from 0.21250\n",
      "Epoch 7/200\n",
      "240/240 [==============================] - 0s 256us/step - loss: 2.2559 - acc: 0.2417 - val_loss: 1.5336 - val_acc: 0.3375\n",
      "\n",
      "Epoch 00007: val_acc improved from 0.21250 to 0.33750, saving model to ./mfcc.hdf5\n",
      "Epoch 8/200\n",
      "240/240 [==============================] - 0s 293us/step - loss: 1.6999 - acc: 0.2000 - val_loss: 1.5429 - val_acc: 0.3500\n",
      "\n",
      "Epoch 00008: val_acc improved from 0.33750 to 0.35000, saving model to ./mfcc.hdf5\n",
      "Epoch 9/200\n",
      "240/240 [==============================] - 0s 321us/step - loss: 1.6010 - acc: 0.2208 - val_loss: 1.5212 - val_acc: 0.2750\n",
      "\n",
      "Epoch 00009: val_acc did not improve from 0.35000\n",
      "Epoch 10/200\n",
      "240/240 [==============================] - 0s 277us/step - loss: 1.5564 - acc: 0.2917 - val_loss: 1.4453 - val_acc: 0.3625\n",
      "\n",
      "Epoch 00010: val_acc improved from 0.35000 to 0.36250, saving model to ./mfcc.hdf5\n",
      "Epoch 11/200\n",
      "240/240 [==============================] - 0s 260us/step - loss: 1.5363 - acc: 0.2625 - val_loss: 1.4508 - val_acc: 0.3375\n",
      "\n",
      "Epoch 00011: val_acc did not improve from 0.36250\n",
      "Epoch 12/200\n",
      "240/240 [==============================] - 0s 311us/step - loss: 1.5299 - acc: 0.3292 - val_loss: 1.3749 - val_acc: 0.3500\n",
      "\n",
      "Epoch 00012: val_acc did not improve from 0.36250\n",
      "Epoch 13/200\n",
      "240/240 [==============================] - 0s 262us/step - loss: 1.4760 - acc: 0.3250 - val_loss: 1.2493 - val_acc: 0.4000\n",
      "\n",
      "Epoch 00013: val_acc improved from 0.36250 to 0.40000, saving model to ./mfcc.hdf5\n",
      "Epoch 14/200\n",
      "240/240 [==============================] - 0s 265us/step - loss: 1.4319 - acc: 0.4083 - val_loss: 1.2671 - val_acc: 0.4000\n",
      "\n",
      "Epoch 00014: val_acc did not improve from 0.40000\n",
      "Epoch 15/200\n",
      "240/240 [==============================] - 0s 279us/step - loss: 1.3418 - acc: 0.3792 - val_loss: 1.2440 - val_acc: 0.4250\n",
      "\n",
      "Epoch 00015: val_acc improved from 0.40000 to 0.42500, saving model to ./mfcc.hdf5\n",
      "Epoch 16/200\n",
      "240/240 [==============================] - 0s 281us/step - loss: 1.2768 - acc: 0.4292 - val_loss: 1.2075 - val_acc: 0.4250\n",
      "\n",
      "Epoch 00016: val_acc improved from 0.42500 to 0.42500, saving model to ./mfcc.hdf5\n",
      "Epoch 17/200\n",
      "240/240 [==============================] - 0s 279us/step - loss: 1.2890 - acc: 0.4083 - val_loss: 1.1867 - val_acc: 0.5000\n",
      "\n",
      "Epoch 00017: val_acc improved from 0.42500 to 0.50000, saving model to ./mfcc.hdf5\n",
      "Epoch 18/200\n",
      "240/240 [==============================] - 0s 282us/step - loss: 1.2310 - acc: 0.4333 - val_loss: 1.1847 - val_acc: 0.4000\n",
      "\n",
      "Epoch 00018: val_acc did not improve from 0.50000\n",
      "Epoch 19/200\n",
      "240/240 [==============================] - 0s 326us/step - loss: 1.2613 - acc: 0.4375 - val_loss: 1.2478 - val_acc: 0.3625\n",
      "\n",
      "Epoch 00019: val_acc did not improve from 0.50000\n",
      "Epoch 20/200\n",
      "240/240 [==============================] - 0s 320us/step - loss: 1.2373 - acc: 0.4625 - val_loss: 1.1927 - val_acc: 0.3750\n",
      "\n",
      "Epoch 00020: val_acc did not improve from 0.50000\n",
      "Epoch 21/200\n",
      "240/240 [==============================] - 0s 289us/step - loss: 1.2019 - acc: 0.4625 - val_loss: 1.1874 - val_acc: 0.4625\n",
      "\n",
      "Epoch 00021: val_acc did not improve from 0.50000\n",
      "Epoch 22/200\n",
      "240/240 [==============================] - 0s 265us/step - loss: 1.2134 - acc: 0.4208 - val_loss: 1.1457 - val_acc: 0.5000\n",
      "\n",
      "Epoch 00022: val_acc did not improve from 0.50000\n",
      "Epoch 23/200\n",
      "240/240 [==============================] - 0s 281us/step - loss: 1.1562 - acc: 0.4667 - val_loss: 1.1418 - val_acc: 0.4750\n",
      "\n",
      "Epoch 00023: val_acc did not improve from 0.50000\n",
      "Epoch 24/200\n",
      "240/240 [==============================] - 0s 300us/step - loss: 1.1344 - acc: 0.4958 - val_loss: 1.1359 - val_acc: 0.4250\n",
      "\n",
      "Epoch 00024: val_acc did not improve from 0.50000\n",
      "Epoch 25/200\n",
      "240/240 [==============================] - 0s 289us/step - loss: 1.2067 - acc: 0.4458 - val_loss: 1.1478 - val_acc: 0.5875\n",
      "\n",
      "Epoch 00025: val_acc improved from 0.50000 to 0.58750, saving model to ./mfcc.hdf5\n",
      "Epoch 26/200\n",
      "240/240 [==============================] - 0s 310us/step - loss: 1.1413 - acc: 0.5042 - val_loss: 1.0668 - val_acc: 0.5625\n",
      "\n",
      "Epoch 00026: val_acc did not improve from 0.58750\n",
      "Epoch 27/200\n",
      "240/240 [==============================] - 0s 287us/step - loss: 1.1092 - acc: 0.4542 - val_loss: 1.0770 - val_acc: 0.5875\n",
      "\n",
      "Epoch 00027: val_acc did not improve from 0.58750\n",
      "Epoch 28/200\n",
      "240/240 [==============================] - 0s 259us/step - loss: 1.0258 - acc: 0.5083 - val_loss: 1.0670 - val_acc: 0.5625\n",
      "\n",
      "Epoch 00028: val_acc did not improve from 0.58750\n",
      "Epoch 29/200\n",
      "240/240 [==============================] - 0s 275us/step - loss: 1.0102 - acc: 0.5208 - val_loss: 1.0459 - val_acc: 0.5750\n",
      "\n",
      "Epoch 00029: val_acc did not improve from 0.58750\n",
      "Epoch 30/200\n",
      "240/240 [==============================] - 0s 299us/step - loss: 1.0373 - acc: 0.5208 - val_loss: 1.0381 - val_acc: 0.5875\n",
      "\n",
      "Epoch 00030: val_acc did not improve from 0.58750\n",
      "Epoch 31/200\n",
      "240/240 [==============================] - 0s 262us/step - loss: 0.9724 - acc: 0.5125 - val_loss: 1.0176 - val_acc: 0.5500\n",
      "\n",
      "Epoch 00031: val_acc did not improve from 0.58750\n",
      "Epoch 32/200\n",
      "240/240 [==============================] - 0s 245us/step - loss: 0.9637 - acc: 0.5333 - val_loss: 0.9992 - val_acc: 0.6625\n",
      "\n",
      "Epoch 00032: val_acc improved from 0.58750 to 0.66250, saving model to ./mfcc.hdf5\n",
      "Epoch 33/200\n",
      "240/240 [==============================] - 0s 260us/step - loss: 0.8737 - acc: 0.5792 - val_loss: 1.0440 - val_acc: 0.6000\n",
      "\n",
      "Epoch 00033: val_acc did not improve from 0.66250\n",
      "Epoch 34/200\n",
      "240/240 [==============================] - 0s 244us/step - loss: 0.9470 - acc: 0.5625 - val_loss: 1.0300 - val_acc: 0.5500\n",
      "\n",
      "Epoch 00034: val_acc did not improve from 0.66250\n",
      "Epoch 35/200\n",
      "240/240 [==============================] - 0s 245us/step - loss: 0.8812 - acc: 0.6042 - val_loss: 1.0525 - val_acc: 0.5250\n",
      "\n",
      "Epoch 00035: val_acc did not improve from 0.66250\n",
      "Epoch 36/200\n",
      "240/240 [==============================] - 0s 263us/step - loss: 0.8573 - acc: 0.5750 - val_loss: 1.0032 - val_acc: 0.6125\n",
      "\n",
      "Epoch 00036: val_acc did not improve from 0.66250\n",
      "Epoch 37/200\n",
      "240/240 [==============================] - 0s 327us/step - loss: 0.8620 - acc: 0.5958 - val_loss: 1.0348 - val_acc: 0.5750\n",
      "\n",
      "Epoch 00037: val_acc did not improve from 0.66250\n",
      "Epoch 38/200\n",
      "240/240 [==============================] - 0s 269us/step - loss: 0.7584 - acc: 0.6875 - val_loss: 1.0318 - val_acc: 0.6250\n",
      "\n",
      "Epoch 00038: val_acc did not improve from 0.66250\n",
      "Epoch 39/200\n",
      "240/240 [==============================] - 0s 269us/step - loss: 0.8203 - acc: 0.6042 - val_loss: 1.0856 - val_acc: 0.5125\n",
      "\n",
      "Epoch 00039: val_acc did not improve from 0.66250\n",
      "Epoch 40/200\n",
      "240/240 [==============================] - 0s 273us/step - loss: 0.7887 - acc: 0.6292 - val_loss: 1.0107 - val_acc: 0.5750\n",
      "\n",
      "Epoch 00040: val_acc did not improve from 0.66250\n",
      "Epoch 41/200\n",
      "240/240 [==============================] - 0s 276us/step - loss: 0.7502 - acc: 0.6750 - val_loss: 1.0510 - val_acc: 0.5750\n",
      "\n",
      "Epoch 00041: val_acc did not improve from 0.66250\n",
      "Epoch 42/200\n",
      "240/240 [==============================] - 0s 298us/step - loss: 0.7269 - acc: 0.6667 - val_loss: 0.9835 - val_acc: 0.6125\n",
      "\n",
      "Epoch 00042: val_acc did not improve from 0.66250\n",
      "Epoch 43/200\n",
      "240/240 [==============================] - 0s 281us/step - loss: 0.7616 - acc: 0.6583 - val_loss: 0.9774 - val_acc: 0.5750\n",
      "\n",
      "Epoch 00043: val_acc did not improve from 0.66250\n",
      "Epoch 44/200\n",
      "240/240 [==============================] - 0s 246us/step - loss: 0.7060 - acc: 0.6667 - val_loss: 1.1896 - val_acc: 0.4625\n",
      "\n",
      "Epoch 00044: val_acc did not improve from 0.66250\n",
      "Epoch 45/200\n",
      "240/240 [==============================] - 0s 242us/step - loss: 0.7599 - acc: 0.6750 - val_loss: 1.0237 - val_acc: 0.6250\n",
      "\n",
      "Epoch 00045: val_acc did not improve from 0.66250\n",
      "Epoch 46/200\n",
      "240/240 [==============================] - 0s 240us/step - loss: 0.7461 - acc: 0.6750 - val_loss: 1.0671 - val_acc: 0.6000\n",
      "\n",
      "Epoch 00046: val_acc did not improve from 0.66250\n",
      "Epoch 47/200\n",
      "240/240 [==============================] - 0s 270us/step - loss: 0.7770 - acc: 0.6458 - val_loss: 1.1269 - val_acc: 0.5500\n",
      "\n",
      "Epoch 00047: val_acc did not improve from 0.66250\n",
      "Epoch 48/200\n",
      "240/240 [==============================] - 0s 283us/step - loss: 0.6463 - acc: 0.7083 - val_loss: 1.1834 - val_acc: 0.5125\n",
      "\n",
      "Epoch 00048: val_acc did not improve from 0.66250\n",
      "Epoch 49/200\n",
      "240/240 [==============================] - 0s 267us/step - loss: 0.6303 - acc: 0.7042 - val_loss: 1.0192 - val_acc: 0.6125\n",
      "\n",
      "Epoch 00049: val_acc did not improve from 0.66250\n",
      "Epoch 50/200\n",
      "240/240 [==============================] - 0s 227us/step - loss: 0.5866 - acc: 0.7250 - val_loss: 1.1383 - val_acc: 0.5625\n",
      "\n",
      "Epoch 00050: val_acc did not improve from 0.66250\n",
      "Epoch 51/200\n",
      "240/240 [==============================] - 0s 252us/step - loss: 0.6060 - acc: 0.7333 - val_loss: 1.0584 - val_acc: 0.6250\n",
      "\n",
      "Epoch 00051: val_acc did not improve from 0.66250\n",
      "Epoch 52/200\n",
      "240/240 [==============================] - 0s 259us/step - loss: 0.6654 - acc: 0.7292 - val_loss: 1.0459 - val_acc: 0.5875\n",
      "\n",
      "Epoch 00052: val_acc did not improve from 0.66250\n",
      "Epoch 53/200\n",
      "240/240 [==============================] - 0s 237us/step - loss: 0.6017 - acc: 0.7125 - val_loss: 1.0878 - val_acc: 0.6000\n",
      "\n",
      "Epoch 00053: val_acc did not improve from 0.66250\n",
      "Epoch 54/200\n",
      "240/240 [==============================] - 0s 260us/step - loss: 0.6150 - acc: 0.7292 - val_loss: 1.0856 - val_acc: 0.6500\n",
      "\n",
      "Epoch 00054: val_acc did not improve from 0.66250\n",
      "Epoch 55/200\n",
      "240/240 [==============================] - 0s 265us/step - loss: 0.5499 - acc: 0.7792 - val_loss: 1.1367 - val_acc: 0.6125\n",
      "\n",
      "Epoch 00055: val_acc did not improve from 0.66250\n",
      "Epoch 56/200\n",
      "240/240 [==============================] - 0s 249us/step - loss: 0.5594 - acc: 0.7250 - val_loss: 1.2709 - val_acc: 0.5625\n",
      "\n",
      "Epoch 00056: val_acc did not improve from 0.66250\n",
      "Epoch 57/200\n",
      "240/240 [==============================] - 0s 251us/step - loss: 0.5528 - acc: 0.7458 - val_loss: 1.1622 - val_acc: 0.5625\n",
      "\n",
      "Epoch 00057: val_acc did not improve from 0.66250\n",
      "Epoch 58/200\n",
      "240/240 [==============================] - 0s 281us/step - loss: 0.4980 - acc: 0.7625 - val_loss: 1.3447 - val_acc: 0.5625\n",
      "\n",
      "Epoch 00058: val_acc did not improve from 0.66250\n",
      "Epoch 59/200\n",
      "240/240 [==============================] - 0s 270us/step - loss: 0.4702 - acc: 0.7833 - val_loss: 1.2121 - val_acc: 0.5875\n",
      "\n",
      "Epoch 00059: val_acc did not improve from 0.66250\n",
      "Epoch 60/200\n",
      "240/240 [==============================] - 0s 268us/step - loss: 0.4382 - acc: 0.8333 - val_loss: 1.2254 - val_acc: 0.6375\n",
      "\n",
      "Epoch 00060: val_acc did not improve from 0.66250\n",
      "Epoch 61/200\n",
      "240/240 [==============================] - 0s 239us/step - loss: 0.4612 - acc: 0.8042 - val_loss: 1.2389 - val_acc: 0.6000\n",
      "\n",
      "Epoch 00061: val_acc did not improve from 0.66250\n",
      "Epoch 62/200\n",
      "240/240 [==============================] - 0s 247us/step - loss: 0.4821 - acc: 0.7708 - val_loss: 1.4033 - val_acc: 0.5875\n",
      "\n",
      "Epoch 00062: val_acc did not improve from 0.66250\n"
     ]
    }
   ],
   "source": [
    "#Perform learning\n",
    "#The value of loss function in learning is stored in history.history\n",
    "history = model.fit(trainData, trainLabel,\n",
    "                    batch_size=30,  #128 datas are randomly obtained\n",
    "                    nb_epoch=200, #Number of trials\n",
    "                    verbose=1,\n",
    "                    validation_split=0.25,\n",
    "                    callbacks=cbks\n",
    "                    )"
   ]
  },
  {
   "cell_type": "code",
   "execution_count": 41,
   "metadata": {},
   "outputs": [],
   "source": [
    "model.load_weights('./mfcc.hdf5')"
   ]
  },
  {
   "cell_type": "code",
   "execution_count": 42,
   "metadata": {},
   "outputs": [
    {
     "name": "stdout",
     "output_type": "stream",
     "text": [
      "Test score: 1.2693265676498413\n",
      "Test accuracy: 0.55\n"
     ]
    }
   ],
   "source": [
    "#Evaluation value for test data\n",
    "score = model.evaluate(testData, testLabel, verbose=0)\n",
    "print('Test score:', score[0]) #The value of the loss function\n",
    "print('Test accuracy:', score[1]) #Accuracy (over 98%)"
   ]
  },
  {
   "cell_type": "code",
   "execution_count": 43,
   "metadata": {},
   "outputs": [
    {
     "data": {
      "image/png": "[encoded data removed]",
      "text/plain": [
       "<Figure size 864x432 with 2 Axes>"
      ]
     },
     "metadata": {},
     "output_type": "display_data"
    }
   ],
   "source": [
    "#Learning curve\n",
    "fig, ax = plt.subplots(1, 2, figsize=(12, 6))\n",
    "ax[0].set_title('Training performance (Loss)')\n",
    "ax[0].plot(history.epoch, history.history['loss'], label='loss')\n",
    "ax[0].plot(history.epoch, history.history['val_loss'], label='val_loss')\n",
    "ax[0].set(xlabel='Epoch', ylabel='Loss')\n",
    "ax[0].legend()\n",
    "\n",
    "ax[1].set_title('Training performance (Accuracy)')\n",
    "ax[1].plot(history.epoch, history.history['acc'], label='acc')\n",
    "ax[1].plot(history.epoch, history.history['val_acc'], label='val_acc')\n",
    "ax[1].set(xlabel='Epoch', ylabel='Accuracy')\n",
    "ax[1].legend(loc='best')\n",
    "\n",
    "plt.savefig('./mfcc_cnn.pdf', dpi=600)"
   ]
  },
  {
   "cell_type": "markdown",
   "metadata": {},
   "source": [
    "## 4. Graph"
   ]
  },
  {
   "cell_type": "markdown",
   "metadata": {},
   "source": [
    "## Make graph"
   ]
  },
  {
   "cell_type": "code",
   "execution_count": 52,
   "metadata": {},
   "outputs": [
    {
     "data": {
      "text/plain": [
       "\"\\nos.mkdir('./Images')\\nfor a in range(0,len(Datas)):\\n    os.mkdir('./Images/LV'+str(a))\\n\""
      ]
     },
     "execution_count": 52,
     "metadata": {},
     "output_type": "execute_result"
    }
   ],
   "source": [
    "'''\n",
    "os.mkdir('./Images')\n",
    "for a in range(0,len(Datas)):\n",
    "    os.mkdir('./Images/LV'+str(a))\n",
    "'''"
   ]
  },
  {
   "cell_type": "code",
   "execution_count": 53,
   "metadata": {},
   "outputs": [],
   "source": [
    "for a in range(0,len(Datas)):\n",
    "    for b in range(0,len(Datas[a])):\n",
    "        fig = plt.figure()\n",
    "        plt.plot(Datas[a][b],antialiased=False,color='black',linewidth=0.5)\n",
    "        plt.axis([0,8800,-1,1])\n",
    "        plt.tick_params(labelbottom=False,labelleft=False,labelright=False,labeltop=False)\n",
    "        plt.tick_params(bottom=False,left=False,right=False,top=False)\n",
    "        plt.box(False)\n",
    "        plt.savefig('./Images/LV'+str(a)+'/'+str(b+1)+'.png')\n",
    "        plt.close(fig)"
   ]
  },
  {
   "cell_type": "markdown",
   "metadata": {},
   "source": [
    "## 4-1. CNN(Convolutional Neural Network)"
   ]
  },
  {
   "cell_type": "markdown",
   "metadata": {},
   "source": [
    "## Import and save images"
   ]
  },
  {
   "cell_type": "code",
   "execution_count": 54,
   "metadata": {},
   "outputs": [],
   "source": [
    "data = []\n",
    "labels = []\n",
    "levels=os.listdir(\"./Images/\")\n",
    "for a in levels:\n",
    "    try:\n",
    "        if not a.startswith('.'):\n",
    "            files = os.listdir(\"./Images/\"+a)\n",
    "            for b in files:\n",
    "                try:\n",
    "                    if not b.startswith('.'):\n",
    "                        path_to_file = os.path.join(\"./Images/\"+a, b)\n",
    "                        image=cv2.imread(path_to_file)\n",
    "                        gray = cv2.cvtColor(image, cv2.COLOR_BGR2GRAY)\n",
    "                        image_from_array = Image.fromarray(gray)\n",
    "                        data.append(np.array(image_from_array))\n",
    "                        labels.append(int(a[2]))\n",
    "                except AttributeError:\n",
    "                    print(\"\")\n",
    "    except AttributeError:\n",
    "        print(\"\")"
   ]
  },
  {
   "cell_type": "code",
   "execution_count": 55,
   "metadata": {},
   "outputs": [],
   "source": [
    "Graph=np.array(data)\n",
    "labels=np.array(labels)"
   ]
  },
  {
   "cell_type": "code",
   "execution_count": 56,
   "metadata": {},
   "outputs": [],
   "source": [
    "np.save(\"./npy/Graph\",Graph)\n",
    "np.save(\"./npy/labels\",labels)"
   ]
  },
  {
   "cell_type": "markdown",
   "metadata": {},
   "source": [
    "## Load Images"
   ]
  },
  {
   "cell_type": "code",
   "execution_count": 3,
   "metadata": {},
   "outputs": [],
   "source": [
    "Graph=np.load(\"./npy/Graph.npy\")\n",
    "labels=np.load(\"./npy/labels.npy\")"
   ]
  },
  {
   "cell_type": "markdown",
   "metadata": {},
   "source": [
    "## Data preprocessing"
   ]
  },
  {
   "cell_type": "code",
   "execution_count": 4,
   "metadata": {},
   "outputs": [],
   "source": [
    "s=np.arange(Graph.shape[0])\n",
    "np.random.shuffle(s)\n",
    "Graph=Graph[s]\n",
    "labels=labels[s]"
   ]
  },
  {
   "cell_type": "code",
   "execution_count": 5,
   "metadata": {},
   "outputs": [],
   "source": [
    "num_classes=len(np.unique(labels))\n",
    "len_data=len(Graph)"
   ]
  },
  {
   "cell_type": "code",
   "execution_count": 6,
   "metadata": {},
   "outputs": [],
   "source": [
    "(x_train,x_test)=Graph[(int)(0.1*len_data):],Graph[:(int)(0.1*len_data)]\n",
    "x_train = x_train.astype('float32')/255 # As we are working on image data we are normalizing data by divinding 255.\n",
    "x_test = x_test.astype('float32')/255\n",
    "train_len=len(x_train)\n",
    "test_len=len(x_test)"
   ]
  },
  {
   "cell_type": "code",
   "execution_count": 7,
   "metadata": {},
   "outputs": [],
   "source": [
    "(y_train,y_test)=labels[(int)(0.1*len_data):],labels[:(int)(0.1*len_data)]"
   ]
  },
  {
   "cell_type": "markdown",
   "metadata": {},
   "source": [
    "# Visualization of data "
   ]
  },
  {
   "cell_type": "code",
   "execution_count": 8,
   "metadata": {},
   "outputs": [],
   "source": [
    "#preparing label name\n",
    "label = np.array([\n",
    "    'Lv0',\n",
    "    'Lv1',\n",
    "    'Lv2',\n",
    "    'Lv3',\n",
    "    'Lv4'])"
   ]
  },
  {
   "cell_type": "code",
   "execution_count": 9,
   "metadata": {},
   "outputs": [],
   "source": [
    "#Store 10 images for each label\n",
    "img_list = []\n",
    "for for_1 in range(5):\n",
    "    choice_idx = np.random.choice(np.where(y_test == for_1)[0], 5)\n",
    "    img_list.append(x_test[choice_idx])"
   ]
  },
  {
   "cell_type": "code",
   "execution_count": 10,
   "metadata": {},
   "outputs": [
    {
     "data": {
      "image/png": "[encoded data removed]",
      "text/plain": [
       "<Figure size 1296x576 with 5 Axes>"
      ]
     },
     "metadata": {},
     "output_type": "display_data"
    },
    {
     "data": {
      "image/png": "[encoded data removed]",
      "text/plain": [
       "<Figure size 1296x576 with 5 Axes>"
      ]
     },
     "metadata": {},
     "output_type": "display_data"
    },
    {
     "data": {
      "image/png": "[encoded data removed]",
      "text/plain": [
       "<Figure size 1296x576 with 5 Axes>"
      ]
     },
     "metadata": {},
     "output_type": "display_data"
    },
    {
     "data": {
      "image/png": "[encoded data removed]",
      "text/plain": [
       "<Figure size 1296x576 with 5 Axes>"
      ]
     },
     "metadata": {},
     "output_type": "display_data"
    },
    {
     "data": {
      "image/png": "[encoded data removed]",
      "text/plain": [
       "<Figure size 1296x576 with 5 Axes>"
      ]
     },
     "metadata": {},
     "output_type": "display_data"
    }
   ],
   "source": [
    "# Visualization of data\n",
    "for for_1 in range(5):\n",
    "    fig, ax = plt.subplots(1, 5, figsize=(18, 8))\n",
    "    for for_2 in range(5):\n",
    "        ax[for_2].imshow(img_list[for_1][for_2],cmap='gray') #Outputs the nth and subsequent test data with the value of for_2 + n\n",
    "        ax[for_2].set_title(label[for_1])\n",
    "        ax[for_2].axis('off')"
   ]
  },
  {
   "cell_type": "code",
   "execution_count": 11,
   "metadata": {},
   "outputs": [],
   "source": [
    "y_train=keras.utils.to_categorical(y_train,num_classes)\n",
    "y_test=keras.utils.to_categorical(y_test,num_classes)"
   ]
  },
  {
   "cell_type": "code",
   "execution_count": 12,
   "metadata": {},
   "outputs": [],
   "source": [
    "img_rows, img_cols = 288,432\n",
    "img_channels = 1\n",
    "# Adjustment of input type of dimension number due to difference of backend\n",
    "\n",
    "if K.image_data_format() == 'channels_first':\n",
    "    x_train = x_train.reshape(x_train.shape[0], 1, img_rows, img_cols)\n",
    "    x_test = x_test.reshape(x_test.shape[0], 1, img_rows, img_cols)\n",
    "    input_shape = (1, img_rows, img_cols)\n",
    "else:\n",
    "    x_train = x_train.reshape(x_train.shape[0], img_rows, img_cols, 1)\n",
    "    x_test = x_test.reshape(x_test.shape[0], img_rows, img_cols, 1)\n",
    "    input_shape = (img_rows, img_cols, 1)"
   ]
  },
  {
   "cell_type": "code",
   "execution_count": 13,
   "metadata": {},
   "outputs": [],
   "source": [
    "model2 = Sequential()\n",
    "model2.add(Conv2D(32, kernel_size=(12, 12), activation=\"relu\", input_shape=input_shape))\n",
    "model2.add(MaxPooling2D(pool_size=(6,6)))\n",
    "model2.add(Conv2D(32, kernel_size=(6, 6), activation=\"relu\"))\n",
    "model2.add(MaxPooling2D(pool_size=(3,3)))\n",
    "model2.add(Conv2D(64, kernel_size=(4, 4), activation=\"relu\"))\n",
    "model2.add(MaxPooling2D(pool_size=(2,2)))\n",
    "model2.add(Flatten())\n",
    "model2.add(Dense(256, activation='relu'))\n",
    "model2.add(Dropout(0.5))\n",
    "model2.add(Dense(5, activation='softmax'))"
   ]
  },
  {
   "cell_type": "code",
   "execution_count": 14,
   "metadata": {},
   "outputs": [
    {
     "name": "stdout",
     "output_type": "stream",
     "text": [
      "_________________________________________________________________\n",
      "Layer (type)                 Output Shape              Param #   \n",
      "=================================================================\n",
      "conv2d_1 (Conv2D)            (None, 277, 421, 32)      4640      \n",
      "_________________________________________________________________\n",
      "max_pooling2d_1 (MaxPooling2 (None, 46, 70, 32)        0         \n",
      "_________________________________________________________________\n",
      "conv2d_2 (Conv2D)            (None, 41, 65, 32)        36896     \n",
      "_________________________________________________________________\n",
      "max_pooling2d_2 (MaxPooling2 (None, 13, 21, 32)        0         \n",
      "_________________________________________________________________\n",
      "conv2d_3 (Conv2D)            (None, 10, 18, 64)        32832     \n",
      "_________________________________________________________________\n",
      "max_pooling2d_3 (MaxPooling2 (None, 5, 9, 64)          0         \n",
      "_________________________________________________________________\n",
      "flatten_1 (Flatten)          (None, 2880)              0         \n",
      "_________________________________________________________________\n",
      "dense_1 (Dense)              (None, 256)               737536    \n",
      "_________________________________________________________________\n",
      "dropout_1 (Dropout)          (None, 256)               0         \n",
      "_________________________________________________________________\n",
      "dense_2 (Dense)              (None, 5)                 1285      \n",
      "=================================================================\n",
      "Total params: 813,189\n",
      "Trainable params: 813,189\n",
      "Non-trainable params: 0\n",
      "_________________________________________________________________\n"
     ]
    }
   ],
   "source": [
    "model2.summary()"
   ]
  },
  {
   "cell_type": "markdown",
   "metadata": {},
   "source": [
    "## Set model optimization function and error function"
   ]
  },
  {
   "cell_type": "code",
   "execution_count": 15,
   "metadata": {},
   "outputs": [],
   "source": [
    "from keras.optimizers import SGD, Adadelta, Adam, RMSprop\n",
    "\n",
    "# model.compile(loss='categorical_crossentropy', \n",
    "#               optimizer='SGD', \n",
    "#               metrics=['accuracy'])\n",
    "model2.compile(loss=\"categorical_crossentropy\", # 誤差(損失)関数\n",
    "             optimizer=\"adam\", # 最適化関数\n",
    "             metrics=[\"accuracy\"] # 評価指標\n",
    "             )"
   ]
  },
  {
   "cell_type": "markdown",
   "metadata": {},
   "source": [
    "## Save model and parameters"
   ]
  },
  {
   "cell_type": "code",
   "execution_count": 16,
   "metadata": {},
   "outputs": [
    {
     "data": {
      "text/plain": [
       "3677"
      ]
     },
     "execution_count": 16,
     "metadata": {},
     "output_type": "execute_result"
    }
   ],
   "source": [
    "#Save model in JSON format\n",
    "json_string = model2.to_json()\n",
    "open('./sound.json', 'w').write(json_string)"
   ]
  },
  {
   "cell_type": "code",
   "execution_count": 17,
   "metadata": {},
   "outputs": [],
   "source": [
    "#Save initial weight\n",
    "model2.save_weights('./sound.hdf5', overwrite=True)"
   ]
  },
  {
   "cell_type": "markdown",
   "metadata": {},
   "source": [
    "## Reading models and calling parameters"
   ]
  },
  {
   "cell_type": "code",
   "execution_count": 18,
   "metadata": {},
   "outputs": [],
   "source": [
    "# from keras.models import model_from_json, model_from_yaml\n",
    "# #Calling models saved in JSON format\n",
    "# json_string = open('./sound.json', 'r').read()\n",
    "# model = model_from_json(json_string)\n",
    "# model.load_weights('./sound.hdf5')"
   ]
  },
  {
   "cell_type": "markdown",
   "metadata": {},
   "source": [
    "## Learning"
   ]
  },
  {
   "cell_type": "code",
   "execution_count": 19,
   "metadata": {},
   "outputs": [],
   "source": [
    "#See progress of learning at TensorBoard\n",
    "tb_cb = keras.callbacks.TensorBoard(log_dir='./', histogram_freq=1)\n",
    "\n",
    "# If the validation loss decreases, save the model for each epoch\n",
    "cp_cb = keras.callbacks.ModelCheckpoint(filepath='./sound.hdf5', \n",
    "                                        monitor='val_loss', \n",
    "                                        verbose=1, \n",
    "                                        save_best_only=True, \n",
    "                                        mode='auto')\n",
    "\n",
    "# If the validation loss rises for 5 epochs in a row, the run is aborted\n",
    "es_cb = keras.callbacks.EarlyStopping(monitor='val_loss', \n",
    "                                      patience=5, \n",
    "                                      verbose=0, \n",
    "                                      mode='auto')\n",
    "\n",
    "cbks = [tb_cb, cp_cb, es_cb]"
   ]
  },
  {
   "cell_type": "code",
   "execution_count": 20,
   "metadata": {},
   "outputs": [
    {
     "name": "stderr",
     "output_type": "stream",
     "text": [
      "/Users/jaejinan/.pyenv/versions/anaconda3-5.1.0/lib/python3.6/site-packages/ipykernel_launcher.py:9: UserWarning: The `nb_epoch` argument in `fit` has been renamed `epochs`.\n",
      "  if __name__ == '__main__':\n"
     ]
    },
    {
     "name": "stdout",
     "output_type": "stream",
     "text": [
      "Train on 360 samples, validate on 40 samples\n",
      "Epoch 1/5\n",
      "360/360 [==============================] - 66s 183ms/step - loss: 1.6388 - acc: 0.1833 - val_loss: 1.6156 - val_acc: 0.3250\n",
      "\n",
      "Epoch 00001: val_loss improved from inf to 1.61560, saving model to ./sound.hdf5\n",
      "Epoch 2/5\n",
      "360/360 [==============================] - 67s 185ms/step - loss: 1.6015 - acc: 0.2000 - val_loss: 1.6331 - val_acc: 0.0750\n",
      "\n",
      "Epoch 00002: val_loss did not improve from 1.61560\n",
      "Epoch 3/5\n",
      "360/360 [==============================] - 65s 180ms/step - loss: 1.5371 - acc: 0.2417 - val_loss: 1.5103 - val_acc: 0.2500\n",
      "\n",
      "Epoch 00003: val_loss improved from 1.61560 to 1.51026, saving model to ./sound.hdf5\n",
      "Epoch 4/5\n",
      "360/360 [==============================] - 64s 179ms/step - loss: 1.3920 - acc: 0.3889 - val_loss: 1.3553 - val_acc: 0.4500\n",
      "\n",
      "Epoch 00004: val_loss improved from 1.51026 to 1.35532, saving model to ./sound.hdf5\n",
      "Epoch 5/5\n",
      "360/360 [==============================] - 65s 180ms/step - loss: 1.2863 - acc: 0.4111 - val_loss: 1.2197 - val_acc: 0.5000\n",
      "\n",
      "Epoch 00005: val_loss improved from 1.35532 to 1.21968, saving model to ./sound.hdf5\n"
     ]
    }
   ],
   "source": [
    "#Perform learning\n",
    "#The value of loss function in learning is stored in history.history\n",
    "history2 = model2.fit(x_train, y_train,\n",
    "                    batch_size=32,  #128 datas are randomly obtained\n",
    "                    nb_epoch=5, #Number of trials\n",
    "                    verbose=1,\n",
    "                    validation_data=(x_test, y_test),\n",
    "                    validation_split=0.1,\n",
    "                    callbacks=cbks\n",
    "                    )"
   ]
  },
  {
   "cell_type": "markdown",
   "metadata": {},
   "source": [
    "## Calling the best parameter"
   ]
  },
  {
   "cell_type": "code",
   "execution_count": 21,
   "metadata": {},
   "outputs": [],
   "source": [
    "model2.load_weights('./sound.hdf5')"
   ]
  },
  {
   "cell_type": "markdown",
   "metadata": {},
   "source": [
    "## Evaluation of learning result"
   ]
  },
  {
   "cell_type": "code",
   "execution_count": 22,
   "metadata": {},
   "outputs": [
    {
     "name": "stdout",
     "output_type": "stream",
     "text": [
      "Test score: 1.2196760892868042\n",
      "Test accuracy: 0.5\n"
     ]
    }
   ],
   "source": [
    "#Evaluation value for test data\n",
    "score = model2.evaluate(x_test, y_test, verbose=0)\n",
    "print('Test score:', score[0]) #The value of the loss function\n",
    "print('Test accuracy:', score[1]) #Accuracy (over 98%)"
   ]
  },
  {
   "cell_type": "code",
   "execution_count": 23,
   "metadata": {},
   "outputs": [
    {
     "data": {
      "image/png": "[encoded data removed]",
      "text/plain": [
       "<Figure size 864x432 with 2 Axes>"
      ]
     },
     "metadata": {},
     "output_type": "display_data"
    }
   ],
   "source": [
    "#Learning curve\n",
    "fig, ax = plt.subplots(1, 2, figsize=(12, 6))\n",
    "ax[0].set_title('Training performance (Loss)')\n",
    "ax[0].plot(history2.epoch, history2.history['loss'], label='loss')\n",
    "ax[0].plot(history2.epoch, history2.history['val_loss'], label='val_loss')\n",
    "ax[0].set(xlabel='Epoch', ylabel='Loss')\n",
    "ax[0].legend()\n",
    "\n",
    "ax[1].set_title('Training performance (Accuracy)')\n",
    "ax[1].plot(history2.epoch, history2.history['acc'], label='acc')\n",
    "ax[1].plot(history2.epoch, history2.history['val_acc'], label='val_acc')\n",
    "ax[1].set(xlabel='Epoch', ylabel='Accuracy')\n",
    "ax[1].legend(loc='best')\n",
    "\n",
    "plt.savefig('./image_cnn.pdf', dpi=600)"
   ]
  },
  {
   "cell_type": "markdown",
   "metadata": {},
   "source": [
    "## Predictive visualization"
   ]
  },
  {
   "cell_type": "code",
   "execution_count": 24,
   "metadata": {},
   "outputs": [],
   "source": [
    "#Predicted value\n",
    "#Store 10 images for each label\n",
    "New_test = []\n",
    "for for_1 in range(10):\n",
    "    choice_idx = np.random.choice(np.where(y_test == (for_1%2))[0])\n",
    "    New_test.append(x_test[choice_idx])\n",
    "New_test = np.array(New_test)\n",
    "# Estimate the label of the image\n",
    "Y_test_pred = model2.predict(New_test)"
   ]
  },
  {
   "cell_type": "code",
   "execution_count": 25,
   "metadata": {},
   "outputs": [],
   "source": [
    "New_test = New_test.reshape(New_test.shape[0], img_rows, img_cols)"
   ]
  },
  {
   "cell_type": "code",
   "execution_count": 1,
   "metadata": {},
   "outputs": [
    {
     "ename": "NameError",
     "evalue": "name 'plt' is not defined",
     "output_type": "error",
     "traceback": [
      "\u001b[0;31m---------------------------------------------------------------------------\u001b[0m",
      "\u001b[0;31mNameError\u001b[0m                                 Traceback (most recent call last)",
      "\u001b[0;32m<ipython-input-1-93dd426c69d0>\u001b[0m in \u001b[0;36m<module>\u001b[0;34m()\u001b[0m\n\u001b[1;32m      1\u001b[0m \u001b[0;31m#Data visualization\u001b[0m\u001b[0;34m\u001b[0m\u001b[0;34m\u001b[0m\u001b[0m\n\u001b[1;32m      2\u001b[0m \u001b[0;31m#The upper row is the correct label, and lower row is the guess label\u001b[0m\u001b[0;34m\u001b[0m\u001b[0;34m\u001b[0m\u001b[0m\n\u001b[0;32m----> 3\u001b[0;31m \u001b[0mfig\u001b[0m\u001b[0;34m,\u001b[0m \u001b[0max\u001b[0m \u001b[0;34m=\u001b[0m \u001b[0mplt\u001b[0m\u001b[0;34m.\u001b[0m\u001b[0msubplots\u001b[0m\u001b[0;34m(\u001b[0m\u001b[0;36m1\u001b[0m\u001b[0;34m,\u001b[0m \u001b[0;36m10\u001b[0m\u001b[0;34m,\u001b[0m \u001b[0mfigsize\u001b[0m\u001b[0;34m=\u001b[0m\u001b[0;34m(\u001b[0m\u001b[0;36m18\u001b[0m\u001b[0;34m,\u001b[0m \u001b[0;36m8\u001b[0m\u001b[0;34m)\u001b[0m\u001b[0;34m)\u001b[0m\u001b[0;34m\u001b[0m\u001b[0m\n\u001b[0m\u001b[1;32m      4\u001b[0m \u001b[0;32mfor\u001b[0m \u001b[0mfor_1\u001b[0m \u001b[0;32min\u001b[0m \u001b[0mrange\u001b[0m\u001b[0;34m(\u001b[0m\u001b[0;36m10\u001b[0m\u001b[0;34m)\u001b[0m\u001b[0;34m:\u001b[0m\u001b[0;34m\u001b[0m\u001b[0m\n\u001b[1;32m      5\u001b[0m     \u001b[0max\u001b[0m\u001b[0;34m[\u001b[0m\u001b[0mfor_1\u001b[0m\u001b[0;34m]\u001b[0m\u001b[0;34m.\u001b[0m\u001b[0mimshow\u001b[0m\u001b[0;34m(\u001b[0m\u001b[0mNew_test\u001b[0m\u001b[0;34m[\u001b[0m\u001b[0mfor_1\u001b[0m\u001b[0;34m]\u001b[0m\u001b[0;34m,\u001b[0m\u001b[0mcmap\u001b[0m\u001b[0;34m=\u001b[0m\u001b[0;34m'gray'\u001b[0m\u001b[0;34m)\u001b[0m \u001b[0;31m#Outputs the nth and subsequent test data with the value of for_2 + n\u001b[0m\u001b[0;34m\u001b[0m\u001b[0m\n",
      "\u001b[0;31mNameError\u001b[0m: name 'plt' is not defined"
     ]
    }
   ],
   "source": [
    "#Data visualization\n",
    "#The upper row is the correct label, and lower row is the guess label\n",
    "fig, ax = plt.subplots(1, 10, figsize=(18, 8))\n",
    "for for_1 in range(10):\n",
    "    ax[for_1].imshow(New_test[for_1],cmap='gray') #Outputs the nth and subsequent test data with the value of for_2 + n\n",
    "    ax[for_1].set_title(\"real:\"+str(label[np.argmax(y_test[for_1])])+\"\\npred:\"+str(label[np.argmax(Y_test_pred[for_1])]))\n",
    "    ax[for_1].axis('off')"
   ]
  },
  {
   "cell_type": "code",
   "execution_count": 27,
   "metadata": {},
   "outputs": [
    {
     "data": {
      "text/plain": [
       "<matplotlib.image.AxesImage at 0x1c3df1af28>"
      ]
     },
     "execution_count": 27,
     "metadata": {},
     "output_type": "execute_result"
    },
    {
     "data": {
      "image/png": "[encoded data removed]",
      "text/plain": [
       "<Figure size 432x288 with 1 Axes>"
      ]
     },
     "metadata": {},
     "output_type": "display_data"
    }
   ],
   "source": [
    "#Predictive visualization\n",
    "#Numerals of images passed by Y axis, and X axis is estimated by neural network\n",
    "plt.imshow(Y_test_pred[:10], cmap='gray', interpolation='nearest', vmin=0, vmax=1) #Y_test_predの範囲を変えることで予測の場所を変更できる"
   ]
  },
  {
   "cell_type": "markdown",
   "metadata": {},
   "source": [
    "## 4-2. Graph Division3"
   ]
  },
  {
   "cell_type": "code",
   "execution_count": 7,
   "metadata": {},
   "outputs": [],
   "source": [
    "\n",
    "os.mkdir('./Images2')\n",
    "for a in range(0,len(Datas)):\n",
    "    os.mkdir('./Images2/LV'+str(a))\n"
   ]
  },
  {
   "cell_type": "code",
   "execution_count": 8,
   "metadata": {},
   "outputs": [],
   "source": [
    "for a in range(0,len(Datas)):\n",
    "    for b in range(0,len(Datas[a])):\n",
    "        for c in range(0,3):\n",
    "            fig = plt.figure()\n",
    "            plt.plot(Datas[a][b][1100*c:1100*c+6599],antialiased=False,color='black',linewidth=0.5)\n",
    "            plt.axis([0,6600,-1,1])\n",
    "            plt.tick_params(labelbottom=False,labelleft=False,labelright=False,labeltop=False)\n",
    "            plt.tick_params(bottom=False,left=False,right=False,top=False)\n",
    "            plt.box(False)\n",
    "            plt.savefig('./Images2/LV'+str(a)+'/'+str(b+1)+'_'+str(c+1)+'.png')\n",
    "            plt.close(fig)"
   ]
  },
  {
   "cell_type": "markdown",
   "metadata": {},
   "source": [
    "## Import and save images"
   ]
  },
  {
   "cell_type": "code",
   "execution_count": 6,
   "metadata": {},
   "outputs": [],
   "source": [
    "data = []\n",
    "labels = []\n",
    "levels=os.listdir(\"./Images2/\")\n",
    "for a in levels:\n",
    "    try:\n",
    "        if not a.startswith('.'):\n",
    "            files = os.listdir(\"./Images2/\"+a)\n",
    "            for b in files:\n",
    "                try:\n",
    "                    if not b.startswith('.'):\n",
    "                        path_to_file = os.path.join(\"./Images2/\"+a, b)\n",
    "                        image=cv2.imread(path_to_file)\n",
    "                        gray = cv2.cvtColor(image, cv2.COLOR_BGR2GRAY)\n",
    "                        image_from_array = Image.fromarray(gray)\n",
    "                        data.append(np.array(image_from_array))\n",
    "                        labels.append(int(a[2]))\n",
    "                except AttributeError:\n",
    "                    print(\"\")\n",
    "    except AttributeError:\n",
    "        print(\"\")"
   ]
  },
  {
   "cell_type": "code",
   "execution_count": 7,
   "metadata": {},
   "outputs": [],
   "source": [
    "Graph3=np.array(data)\n",
    "labels3=np.array(labels)"
   ]
  },
  {
   "cell_type": "code",
   "execution_count": 8,
   "metadata": {},
   "outputs": [],
   "source": [
    "np.save(\"./npy/Graph3\",Graph3)\n",
    "np.save(\"./npy/labels3\",labels3)"
   ]
  },
  {
   "cell_type": "markdown",
   "metadata": {},
   "source": [
    "## Load Images"
   ]
  },
  {
   "cell_type": "code",
   "execution_count": 3,
   "metadata": {},
   "outputs": [],
   "source": [
    "Graph3=np.load(\"./npy/Graph3.npy\")\n",
    "labels3=np.load(\"./npy/labels3.npy\")"
   ]
  },
  {
   "cell_type": "markdown",
   "metadata": {},
   "source": [
    "## Data preprocessing"
   ]
  },
  {
   "cell_type": "code",
   "execution_count": 4,
   "metadata": {},
   "outputs": [],
   "source": [
    "s=np.arange(Graph3.shape[0])\n",
    "s=s.reshape((400, 3))\n",
    "np.random.shuffle(s)\n",
    "s=s.reshape(Graph3.shape[0])\n",
    "Graph3=Graph3[s]\n",
    "labels3=labels3[s]"
   ]
  },
  {
   "cell_type": "code",
   "execution_count": 5,
   "metadata": {},
   "outputs": [],
   "source": [
    "num_classes=len(np.unique(labels3))\n",
    "len_data=len(Graph3)"
   ]
  },
  {
   "cell_type": "code",
   "execution_count": 6,
   "metadata": {},
   "outputs": [],
   "source": [
    "(x_train,x_val,x_test)=Graph3[(int)(0.2*len_data):],Graph3[:(int)(0.1*len_data)],Graph3[(int)(0.1*len_data):(int)(0.2*len_data)]\n",
    "x_train = x_train.astype('float32')/255 # As we are working on image data we are normalizing data by divinding 255.\n",
    "x_val = x_val.astype('float32')/255\n",
    "x_test = x_test.astype('float32')/255\n",
    "train_len=len(x_train)\n",
    "test_len=len(x_test)"
   ]
  },
  {
   "cell_type": "code",
   "execution_count": 7,
   "metadata": {},
   "outputs": [],
   "source": [
    "(y_train,y_val,y_test)=labels3[(int)(0.2*len_data):],labels3[:(int)(0.1*len_data)],labels3[(int)(0.1*len_data):(int)(0.2*len_data)]"
   ]
  },
  {
   "cell_type": "markdown",
   "metadata": {},
   "source": [
    "# Visualization of data "
   ]
  },
  {
   "cell_type": "code",
   "execution_count": 8,
   "metadata": {},
   "outputs": [],
   "source": [
    "#preparing label name\n",
    "label = np.array([\n",
    "    'Lv0',\n",
    "    'Lv1',\n",
    "    'Lv2',\n",
    "    'Lv3',\n",
    "    'Lv4'])"
   ]
  },
  {
   "cell_type": "code",
   "execution_count": 9,
   "metadata": {},
   "outputs": [],
   "source": [
    "#Store 10 images for each label\n",
    "img_list = []\n",
    "for for_1 in range(5):\n",
    "    choice_idx = np.random.choice(np.where(y_test == for_1)[0], 5)\n",
    "    img_list.append(x_test[choice_idx])"
   ]
  },
  {
   "cell_type": "code",
   "execution_count": 10,
   "metadata": {},
   "outputs": [
    {
     "data": {
      "image/png": "[encoded data removed]",
      "text/plain": [
       "<Figure size 1296x576 with 5 Axes>"
      ]
     },
     "metadata": {},
     "output_type": "display_data"
    },
    {
     "data": {
      "image/png": "[encoded data removed]",
      "text/plain": [
       "<Figure size 1296x576 with 5 Axes>"
      ]
     },
     "metadata": {},
     "output_type": "display_data"
    },
    {
     "data": {
      "image/png": "[encoded data removed]",
      "text/plain": [
       "<Figure size 1296x576 with 5 Axes>"
      ]
     },
     "metadata": {},
     "output_type": "display_data"
    },
    {
     "data": {
      "image/png": "[encoded data removed]",
      "text/plain": [
       "<Figure size 1296x576 with 5 Axes>"
      ]
     },
     "metadata": {},
     "output_type": "display_data"
    },
    {
     "data": {
      "image/png": "[encoded data removed]",
      "text/plain": [
       "<Figure size 1296x576 with 5 Axes>"
      ]
     },
     "metadata": {},
     "output_type": "display_data"
    }
   ],
   "source": [
    "# Visualization of data\n",
    "for for_1 in range(5):\n",
    "    fig, ax = plt.subplots(1, 5, figsize=(18, 8))\n",
    "    for for_2 in range(5):\n",
    "        ax[for_2].imshow(img_list[for_1][for_2],cmap='gray') #Outputs the nth and subsequent test data with the value of for_2 + n\n",
    "        ax[for_2].set_title(label[for_1])\n",
    "        ax[for_2].axis('off')"
   ]
  },
  {
   "cell_type": "code",
   "execution_count": 11,
   "metadata": {},
   "outputs": [],
   "source": [
    "y_train=keras.utils.to_categorical(y_train,num_classes)\n",
    "y_val=keras.utils.to_categorical(y_val,num_classes)\n",
    "y_test=keras.utils.to_categorical(y_test,num_classes)"
   ]
  },
  {
   "cell_type": "code",
   "execution_count": 12,
   "metadata": {},
   "outputs": [],
   "source": [
    "img_rows, img_cols = 288,432\n",
    "img_channels = 1\n",
    "# Adjustment of input type of dimension number due to difference of backend\n",
    "\n",
    "if K.image_data_format() == 'channels_first':\n",
    "    x_train = x_train.reshape(x_train.shape[0], 1, img_rows, img_cols)\n",
    "    x_val = x_val.reshape(x_val.shape[0], 1, img_rows, img_cols)\n",
    "    x_test = x_test.reshape(x_test.shape[0], 1, img_rows, img_cols)\n",
    "    input_shape = (1, img_rows, img_cols)\n",
    "else:\n",
    "    x_train = x_train.reshape(x_train.shape[0], img_rows, img_cols, 1)\n",
    "    x_val = x_val.reshape(x_val.shape[0], img_rows, img_cols, 1)\n",
    "    x_test = x_test.reshape(x_test.shape[0], img_rows, img_cols, 1)\n",
    "    input_shape = (img_rows, img_cols, 1)"
   ]
  },
  {
   "cell_type": "code",
   "execution_count": 13,
   "metadata": {},
   "outputs": [],
   "source": [
    "model3 = Sequential()\n",
    "model3.add(Conv2D(32, kernel_size=(8, 8), activation=\"relu\", input_shape=input_shape))\n",
    "model3.add(MaxPooling2D(pool_size=(4,4)))\n",
    "model3.add(Conv2D(32, kernel_size=(6, 6), activation=\"relu\"))\n",
    "model3.add(MaxPooling2D(pool_size=(3,3)))\n",
    "model3.add(Conv2D(64, kernel_size=(6, 6), activation=\"relu\"))\n",
    "model3.add(MaxPooling2D(pool_size=(3,3)))\n",
    "model3.add(Conv2D(64, kernel_size=(4, 4), activation=\"relu\"))\n",
    "model3.add(MaxPooling2D(pool_size=(2,2)))\n",
    "\n",
    "model3.add(Flatten())\n",
    "model3.add(Dense(256, activation='relu'))\n",
    "model3.add(Dropout(0.5))\n",
    "model3.add(Dense(5, activation='softmax'))"
   ]
  },
  {
   "cell_type": "code",
   "execution_count": 14,
   "metadata": {},
   "outputs": [
    {
     "name": "stdout",
     "output_type": "stream",
     "text": [
      "_________________________________________________________________\n",
      "Layer (type)                 Output Shape              Param #   \n",
      "=================================================================\n",
      "conv2d_1 (Conv2D)            (None, 281, 425, 32)      2080      \n",
      "_________________________________________________________________\n",
      "max_pooling2d_1 (MaxPooling2 (None, 70, 106, 32)       0         \n",
      "_________________________________________________________________\n",
      "conv2d_2 (Conv2D)            (None, 65, 101, 32)       36896     \n",
      "_________________________________________________________________\n",
      "max_pooling2d_2 (MaxPooling2 (None, 21, 33, 32)        0         \n",
      "_________________________________________________________________\n",
      "conv2d_3 (Conv2D)            (None, 16, 28, 64)        73792     \n",
      "_________________________________________________________________\n",
      "max_pooling2d_3 (MaxPooling2 (None, 5, 9, 64)          0         \n",
      "_________________________________________________________________\n",
      "conv2d_4 (Conv2D)            (None, 2, 6, 64)          65600     \n",
      "_________________________________________________________________\n",
      "max_pooling2d_4 (MaxPooling2 (None, 1, 3, 64)          0         \n",
      "_________________________________________________________________\n",
      "flatten_1 (Flatten)          (None, 192)               0         \n",
      "_________________________________________________________________\n",
      "dense_1 (Dense)              (None, 256)               49408     \n",
      "_________________________________________________________________\n",
      "dropout_1 (Dropout)          (None, 256)               0         \n",
      "_________________________________________________________________\n",
      "dense_2 (Dense)              (None, 5)                 1285      \n",
      "=================================================================\n",
      "Total params: 229,061\n",
      "Trainable params: 229,061\n",
      "Non-trainable params: 0\n",
      "_________________________________________________________________\n"
     ]
    }
   ],
   "source": [
    "model3.summary()"
   ]
  },
  {
   "cell_type": "markdown",
   "metadata": {},
   "source": [
    "## Set model optimization function and error function"
   ]
  },
  {
   "cell_type": "code",
   "execution_count": 15,
   "metadata": {},
   "outputs": [],
   "source": [
    "from keras.optimizers import SGD, Adadelta, Adam, RMSprop\n",
    "\n",
    "# model.compile(loss='categorical_crossentropy', \n",
    "#               optimizer='SGD', \n",
    "#               metrics=['accuracy'])\n",
    "model3.compile(loss=\"categorical_crossentropy\", # 誤差(損失)関数\n",
    "             optimizer=\"adam\", # 最適化関数\n",
    "             metrics=[\"accuracy\"] # 評価指標\n",
    "             )"
   ]
  },
  {
   "cell_type": "markdown",
   "metadata": {},
   "source": [
    "## Save model and parameters"
   ]
  },
  {
   "cell_type": "code",
   "execution_count": 16,
   "metadata": {},
   "outputs": [
    {
     "data": {
      "text/plain": [
       "4446"
      ]
     },
     "execution_count": 16,
     "metadata": {},
     "output_type": "execute_result"
    }
   ],
   "source": [
    "#Save model in JSON format\n",
    "json_string = model3.to_json()\n",
    "open('./sound3.json', 'w').write(json_string)"
   ]
  },
  {
   "cell_type": "code",
   "execution_count": 17,
   "metadata": {},
   "outputs": [],
   "source": [
    "#Save initial weight\n",
    "model3.save_weights('./sound3.hdf5', overwrite=True)"
   ]
  },
  {
   "cell_type": "markdown",
   "metadata": {},
   "source": [
    "## Reading models and calling parameters"
   ]
  },
  {
   "cell_type": "code",
   "execution_count": 18,
   "metadata": {},
   "outputs": [],
   "source": [
    "# from keras.models import model_from_json, model_from_yaml\n",
    "# #Calling models saved in JSON format\n",
    "# json_string = open('./sound.json', 'r').read()\n",
    "# model = model_from_json(json_string)\n",
    "# model.load_weights('./sound.hdf5')"
   ]
  },
  {
   "cell_type": "markdown",
   "metadata": {},
   "source": [
    "## Learning"
   ]
  },
  {
   "cell_type": "code",
   "execution_count": 19,
   "metadata": {},
   "outputs": [],
   "source": [
    "#See progress of learning at TensorBoard\n",
    "tb_cb = keras.callbacks.TensorBoard(log_dir='./', histogram_freq=1)\n",
    "\n",
    "# If the validation loss decreases, save the model for each epoch\n",
    "cp_cb = keras.callbacks.ModelCheckpoint(filepath='./sound3.hdf5', \n",
    "                                        monitor='val_loss', \n",
    "                                        verbose=1, \n",
    "                                        save_best_only=True, \n",
    "                                        mode='auto')\n",
    "\n",
    "# If the validation loss rises for 5 epochs in a row, the run is aborted\n",
    "es_cb = keras.callbacks.EarlyStopping(monitor='val_loss', \n",
    "                                      patience=5, \n",
    "                                      verbose=0, \n",
    "                                      mode='auto')\n",
    "\n",
    "cbks = [tb_cb, cp_cb, es_cb]"
   ]
  },
  {
   "cell_type": "code",
   "execution_count": 20,
   "metadata": {},
   "outputs": [
    {
     "name": "stderr",
     "output_type": "stream",
     "text": [
      "/Users/jaejinan/.pyenv/versions/anaconda3-5.1.0/lib/python3.6/site-packages/ipykernel_launcher.py:9: UserWarning: The `nb_epoch` argument in `fit` has been renamed `epochs`.\n",
      "  if __name__ == '__main__':\n"
     ]
    },
    {
     "name": "stdout",
     "output_type": "stream",
     "text": [
      "Train on 960 samples, validate on 120 samples\n",
      "Epoch 1/50\n",
      "960/960 [==============================] - 104s 108ms/step - loss: 1.6170 - acc: 0.1958 - val_loss: 1.6092 - val_acc: 0.1500\n",
      "\n",
      "Epoch 00001: val_loss improved from inf to 1.60923, saving model to ./sound.hdf5\n",
      "Epoch 2/50\n",
      "960/960 [==============================] - 104s 108ms/step - loss: 1.6095 - acc: 0.2073 - val_loss: 1.6097 - val_acc: 0.2000\n",
      "\n",
      "Epoch 00002: val_loss did not improve from 1.60923\n",
      "Epoch 3/50\n",
      "960/960 [==============================] - 107s 111ms/step - loss: 1.6087 - acc: 0.1969 - val_loss: 1.6065 - val_acc: 0.1500\n",
      "\n",
      "Epoch 00003: val_loss improved from 1.60923 to 1.60651, saving model to ./sound.hdf5\n",
      "Epoch 4/50\n",
      "960/960 [==============================] - 101s 106ms/step - loss: 1.5567 - acc: 0.2396 - val_loss: 1.4918 - val_acc: 0.3667\n",
      "\n",
      "Epoch 00004: val_loss improved from 1.60651 to 1.49180, saving model to ./sound.hdf5\n",
      "Epoch 5/50\n",
      "960/960 [==============================] - 100s 104ms/step - loss: 1.3858 - acc: 0.3979 - val_loss: 1.2064 - val_acc: 0.3833\n",
      "\n",
      "Epoch 00005: val_loss improved from 1.49180 to 1.20636, saving model to ./sound.hdf5\n",
      "Epoch 6/50\n",
      "960/960 [==============================] - 100s 104ms/step - loss: 1.1438 - acc: 0.4677 - val_loss: 1.4059 - val_acc: 0.3417\n",
      "\n",
      "Epoch 00006: val_loss did not improve from 1.20636\n",
      "Epoch 7/50\n",
      "960/960 [==============================] - 100s 104ms/step - loss: 1.0951 - acc: 0.5031 - val_loss: 1.1783 - val_acc: 0.5000\n",
      "\n",
      "Epoch 00007: val_loss improved from 1.20636 to 1.17834, saving model to ./sound.hdf5\n",
      "Epoch 8/50\n",
      "960/960 [==============================] - 100s 104ms/step - loss: 1.0626 - acc: 0.5177 - val_loss: 1.1208 - val_acc: 0.4583\n",
      "\n",
      "Epoch 00008: val_loss improved from 1.17834 to 1.12082, saving model to ./sound.hdf5\n",
      "Epoch 9/50\n",
      "960/960 [==============================] - 100s 104ms/step - loss: 1.0846 - acc: 0.4969 - val_loss: 1.1070 - val_acc: 0.4667\n",
      "\n",
      "Epoch 00009: val_loss improved from 1.12082 to 1.10701, saving model to ./sound.hdf5\n",
      "Epoch 10/50\n",
      "960/960 [==============================] - 100s 104ms/step - loss: 1.0370 - acc: 0.5198 - val_loss: 1.0843 - val_acc: 0.5000\n",
      "\n",
      "Epoch 00010: val_loss improved from 1.10701 to 1.08430, saving model to ./sound.hdf5\n",
      "Epoch 11/50\n",
      "960/960 [==============================] - 100s 104ms/step - loss: 0.9645 - acc: 0.5531 - val_loss: 1.0804 - val_acc: 0.4750\n",
      "\n",
      "Epoch 00011: val_loss improved from 1.08430 to 1.08043, saving model to ./sound.hdf5\n",
      "Epoch 12/50\n",
      "960/960 [==============================] - 100s 104ms/step - loss: 0.9244 - acc: 0.5844 - val_loss: 1.0888 - val_acc: 0.5250\n",
      "\n",
      "Epoch 00012: val_loss did not improve from 1.08043\n",
      "Epoch 13/50\n",
      "960/960 [==============================] - 100s 105ms/step - loss: 0.9019 - acc: 0.6062 - val_loss: 1.1068 - val_acc: 0.5417\n",
      "\n",
      "Epoch 00013: val_loss did not improve from 1.08043\n",
      "Epoch 14/50\n",
      "960/960 [==============================] - 100s 104ms/step - loss: 0.8663 - acc: 0.6031 - val_loss: 1.0710 - val_acc: 0.5167\n",
      "\n",
      "Epoch 00014: val_loss improved from 1.08043 to 1.07098, saving model to ./sound.hdf5\n",
      "Epoch 15/50\n",
      "960/960 [==============================] - 100s 104ms/step - loss: 0.7820 - acc: 0.6490 - val_loss: 1.0436 - val_acc: 0.5333\n",
      "\n",
      "Epoch 00015: val_loss improved from 1.07098 to 1.04362, saving model to ./sound.hdf5\n",
      "Epoch 16/50\n",
      "960/960 [==============================] - 100s 104ms/step - loss: 0.7227 - acc: 0.6740 - val_loss: 1.0808 - val_acc: 0.5583\n",
      "\n",
      "Epoch 00016: val_loss did not improve from 1.04362\n",
      "Epoch 17/50\n",
      "960/960 [==============================] - 100s 104ms/step - loss: 0.6541 - acc: 0.6948 - val_loss: 1.1471 - val_acc: 0.5333\n",
      "\n",
      "Epoch 00017: val_loss did not improve from 1.04362\n",
      "Epoch 18/50\n",
      "960/960 [==============================] - 100s 104ms/step - loss: 0.6343 - acc: 0.7323 - val_loss: 1.1516 - val_acc: 0.5417\n",
      "\n",
      "Epoch 00018: val_loss did not improve from 1.04362\n",
      "Epoch 19/50\n",
      "960/960 [==============================] - 103s 107ms/step - loss: 0.5731 - acc: 0.7615 - val_loss: 1.3200 - val_acc: 0.5417\n",
      "\n",
      "Epoch 00019: val_loss did not improve from 1.04362\n",
      "Epoch 20/50\n",
      "960/960 [==============================] - 99s 104ms/step - loss: 0.4344 - acc: 0.8271 - val_loss: 1.2960 - val_acc: 0.5750\n",
      "\n",
      "Epoch 00020: val_loss did not improve from 1.04362\n"
     ]
    }
   ],
   "source": [
    "#Perform learning\n",
    "#The value of loss function in learning is stored in history.history\n",
    "history3 = model3.fit(x_train, y_train,\n",
    "                    batch_size=32,  #128 datas are randomly obtained\n",
    "                    nb_epoch=50, #Number of trials\n",
    "                    verbose=1,\n",
    "                    validation_data=(x_val, y_val),\n",
    "                    callbacks=cbks\n",
    "                    )"
   ]
  },
  {
   "cell_type": "markdown",
   "metadata": {},
   "source": [
    "## Calling the best parameter"
   ]
  },
  {
   "cell_type": "code",
   "execution_count": 21,
   "metadata": {},
   "outputs": [],
   "source": [
    "model3.load_weights('./sound3.hdf5')"
   ]
  },
  {
   "cell_type": "markdown",
   "metadata": {},
   "source": [
    "## Evaluation of learning result"
   ]
  },
  {
   "cell_type": "code",
   "execution_count": 22,
   "metadata": {},
   "outputs": [
    {
     "name": "stdout",
     "output_type": "stream",
     "text": [
      "Test score: 0.9449905594189961\n",
      "Test accuracy: 0.574999996026357\n"
     ]
    }
   ],
   "source": [
    "#Evaluation value for test data\n",
    "score = model3.evaluate(x_test, y_test, verbose=0)\n",
    "print('Test score:', score[0]) #The value of the loss function\n",
    "print('Test accuracy:', score[1]) #Accuracy (over 98%)"
   ]
  },
  {
   "cell_type": "code",
   "execution_count": 23,
   "metadata": {},
   "outputs": [
    {
     "data": {
      "image/png": "[encoded data removed]",
      "text/plain": [
       "<Figure size 864x432 with 2 Axes>"
      ]
     },
     "metadata": {},
     "output_type": "display_data"
    }
   ],
   "source": [
    "#Learning curve\n",
    "fig, ax = plt.subplots(1, 2, figsize=(12, 6))\n",
    "ax[0].set_title('Training performance (Loss)')\n",
    "ax[0].plot(history3.epoch, history3.history['loss'], label='loss')\n",
    "ax[0].plot(history3.epoch, history3.history['val_loss'], label='val_loss')\n",
    "ax[0].set(xlabel='Epoch', ylabel='Loss')\n",
    "ax[0].legend()\n",
    "\n",
    "ax[1].set_title('Training performance (Accuracy)')\n",
    "ax[1].plot(history3.epoch, history3.history['acc'], label='acc')\n",
    "ax[1].plot(history3.epoch, history3.history['val_acc'], label='val_acc')\n",
    "ax[1].set(xlabel='Epoch', ylabel='Accuracy')\n",
    "ax[1].legend(loc='best')\n",
    "\n",
    "plt.savefig('./3image_cnn.pdf', dpi=600)"
   ]
  },
  {
   "cell_type": "markdown",
   "metadata": {},
   "source": [
    "## Predictive visualization"
   ]
  },
  {
   "cell_type": "code",
   "execution_count": 37,
   "metadata": {},
   "outputs": [
    {
     "name": "stdout",
     "output_type": "stream",
     "text": [
      "Test accuracy: 0.6923076923076923\n"
     ]
    }
   ],
   "source": [
    "Y_test_pred_pr = model3.predict(x_test)\n",
    "\n",
    "count=0\n",
    "cou = 0\n",
    "for for_1 in range(0,int(len(x_test)/3)):\n",
    "    count = count + 1\n",
    "    if(label[np.argmax(y_test[3*for_1])] == label[np.argmax(Y_test_pred_pr[3*for_1]+Y_test_pred_pr[3*for_1+1]+Y_test_pred_pr[3*for_1+2])]):\n",
    "        cou = cou + 1\n",
    "\n",
    "print('Test accuracy:',cou/count)"
   ]
  },
  {
   "cell_type": "code",
   "execution_count": 38,
   "metadata": {},
   "outputs": [
    {
     "data": {
      "image/png": "[encoded data removed]",
      "text/plain": [
       "<Figure size 1296x576 with 9 Axes>"
      ]
     },
     "metadata": {},
     "output_type": "display_data"
    }
   ],
   "source": [
    "#Data visualization\n",
    "#The upper row is the correct label, and lower row is the guess label\n",
    "x_test_re = x_test.reshape(x_test.shape[0], img_rows, img_cols)\n",
    "fig, ax = plt.subplots(1, 9, figsize=(18, 8))\n",
    "for for_1 in range(0,9):\n",
    "    ax[for_1].imshow(x_test_re[3*for_1],cmap='gray') #Outputs the nth and subsequent test data with the value of for_2 + n\n",
    "    ax[for_1].set_title(\"real:\"+str(label[np.argmax(y_test[3*for_1])])+\"\\npred:\"+str(label[np.argmax(Y_test_pred_pr[3*for_1]+Y_test_pred_pr[3*for_1+1]+Y_test_pred_pr[3*for_1+2])]))\n",
    "    ax[for_1].axis('off')"
   ]
  },
  {
   "cell_type": "code",
   "execution_count": 39,
   "metadata": {},
   "outputs": [
    {
     "data": {
      "text/plain": [
       "<matplotlib.image.AxesImage at 0x1c6223fb00>"
      ]
     },
     "execution_count": 39,
     "metadata": {},
     "output_type": "execute_result"
    },
    {
     "data": {
      "image/png": "[encoded data removed]",
      "text/plain": [
       "<Figure size 432x288 with 1 Axes>"
      ]
     },
     "metadata": {},
     "output_type": "display_data"
    }
   ],
   "source": [
    "#Predictive visualization\n",
    "#Numerals of images passed by Y axis, and X axis is estimated by neural network\n",
    "plt.imshow(Y_test_pred[:10], cmap='gray', interpolation='nearest', vmin=0, vmax=1) #Y_test_predの範囲を変えることで予測の場所を変更できる"
   ]
  },
  {
   "cell_type": "markdown",
   "metadata": {},
   "source": [
    "## 4-3. Graph Division5"
   ]
  },
  {
   "cell_type": "code",
   "execution_count": 4,
   "metadata": {},
   "outputs": [],
   "source": [
    "\n",
    "os.mkdir('./Images3')\n",
    "for a in range(0,len(Datas)):\n",
    "    os.mkdir('./Images3/LV'+str(a))\n"
   ]
  },
  {
   "cell_type": "code",
   "execution_count": 6,
   "metadata": {},
   "outputs": [],
   "source": [
    "for a in range(0,len(Datas)):\n",
    "    for b in range(0,len(Datas[a])):\n",
    "        for c in range(0,5):\n",
    "            fig = plt.figure()\n",
    "            plt.plot(Datas[a][b][550*c:550*c+6599],antialiased=False,color='black',linewidth=0.5)\n",
    "            plt.axis([0,6600,-1,1])\n",
    "            plt.tick_params(labelbottom=False,labelleft=False,labelright=False,labeltop=False)\n",
    "            plt.tick_params(bottom=False,left=False,right=False,top=False)\n",
    "            plt.box(False)\n",
    "            plt.savefig('./Images3/LV'+str(a)+'/'+str(b+1)+'_'+str(c+1)+'.png')\n",
    "            plt.close(fig)"
   ]
  },
  {
   "cell_type": "markdown",
   "metadata": {},
   "source": [
    "## Import and save images"
   ]
  },
  {
   "cell_type": "code",
   "execution_count": 9,
   "metadata": {},
   "outputs": [],
   "source": [
    "data = []\n",
    "labels = []\n",
    "levels=os.listdir(\"./Images3/\")\n",
    "for a in levels:\n",
    "    try:\n",
    "        if not a.startswith('.'):\n",
    "            files = os.listdir(\"./Images3/\"+a)\n",
    "            for b in files:\n",
    "                try:\n",
    "                    if not b.startswith('.'):\n",
    "                        path_to_file = os.path.join(\"./Images3/\"+a, b)\n",
    "                        image=cv2.imread(path_to_file)\n",
    "                        gray = cv2.cvtColor(image, cv2.COLOR_BGR2GRAY)\n",
    "                        image_from_array = Image.fromarray(gray)\n",
    "                        data.append(np.array(image_from_array))\n",
    "                        labels.append(int(a[2]))\n",
    "                except AttributeError:\n",
    "                    print(\"\")\n",
    "    except AttributeError:\n",
    "        print(\"\")"
   ]
  },
  {
   "cell_type": "code",
   "execution_count": 10,
   "metadata": {},
   "outputs": [],
   "source": [
    "Graph5=np.array(data)\n",
    "labels5=np.array(labels)"
   ]
  },
  {
   "cell_type": "code",
   "execution_count": 11,
   "metadata": {},
   "outputs": [],
   "source": [
    "np.save(\"./npy/Graph5\",Graph5)\n",
    "np.save(\"./npy/labels5\",labels5)"
   ]
  },
  {
   "cell_type": "markdown",
   "metadata": {},
   "source": [
    "## Load Images"
   ]
  },
  {
   "cell_type": "code",
   "execution_count": 3,
   "metadata": {},
   "outputs": [],
   "source": [
    "Graph5=np.load(\"./npy/Graph5.npy\")\n",
    "labels5=np.load(\"./npy/labels5.npy\")"
   ]
  },
  {
   "cell_type": "markdown",
   "metadata": {},
   "source": [
    "## Data preprocessing"
   ]
  },
  {
   "cell_type": "code",
   "execution_count": 4,
   "metadata": {},
   "outputs": [],
   "source": [
    "s=np.arange(Graph5.shape[0])\n",
    "s=s.reshape((400, 5))\n",
    "np.random.shuffle(s)\n",
    "s=s.reshape(Graph5.shape[0])\n",
    "Graph5=Graph5[s]\n",
    "labels5=labels5[s]"
   ]
  },
  {
   "cell_type": "code",
   "execution_count": 5,
   "metadata": {},
   "outputs": [],
   "source": [
    "num_classes=len(np.unique(labels5))\n",
    "len_data=len(Graph5)"
   ]
  },
  {
   "cell_type": "code",
   "execution_count": 6,
   "metadata": {},
   "outputs": [],
   "source": [
    "(x_train,x_val,x_test)=Graph5[(int)(0.2*len_data):],Graph5[:(int)(0.1*len_data)],Graph5[(int)(0.1*len_data):(int)(0.2*len_data)]\n",
    "x_train = x_train.astype('float32')/255 # As we are working on image data we are normalizing data by divinding 255.\n",
    "x_val = x_val.astype('float32')/255\n",
    "x_test = x_test.astype('float32')/255\n",
    "train_len=len(x_train)\n",
    "test_len=len(x_test)"
   ]
  },
  {
   "cell_type": "code",
   "execution_count": 7,
   "metadata": {},
   "outputs": [],
   "source": [
    "(y_train,y_val,y_test)=labels5[(int)(0.2*len_data):],labels5[:(int)(0.1*len_data)],labels5[(int)(0.1*len_data):(int)(0.2*len_data)]"
   ]
  },
  {
   "cell_type": "markdown",
   "metadata": {},
   "source": [
    "# Visualization of data "
   ]
  },
  {
   "cell_type": "code",
   "execution_count": 8,
   "metadata": {},
   "outputs": [],
   "source": [
    "#preparing label name\n",
    "label = np.array([\n",
    "    'Lv0',\n",
    "    'Lv1',\n",
    "    'Lv2',\n",
    "    'Lv3',\n",
    "    'Lv4'])"
   ]
  },
  {
   "cell_type": "code",
   "execution_count": 9,
   "metadata": {},
   "outputs": [],
   "source": [
    "#Store 10 images for each label\n",
    "img_list = []\n",
    "for for_1 in range(5):\n",
    "    choice_idx = np.random.choice(np.where(y_test == for_1)[0], 5)\n",
    "    img_list.append(x_test[choice_idx])"
   ]
  },
  {
   "cell_type": "code",
   "execution_count": 10,
   "metadata": {},
   "outputs": [
    {
     "data": {
      "image/png": "[encoded data removed]",
      "text/plain": [
       "<Figure size 1296x576 with 5 Axes>"
      ]
     },
     "metadata": {},
     "output_type": "display_data"
    },
    {
     "data": {
      "image/png": "[encoded data removed]",
      "text/plain": [
       "<Figure size 1296x576 with 5 Axes>"
      ]
     },
     "metadata": {},
     "output_type": "display_data"
    },
    {
     "data": {
      "image/png": "[encoded data removed]",
      "text/plain": [
       "<Figure size 1296x576 with 5 Axes>"
      ]
     },
     "metadata": {},
     "output_type": "display_data"
    },
    {
     "data": {
      "image/png": "[encoded data removed]",
      "text/plain": [
       "<Figure size 1296x576 with 5 Axes>"
      ]
     },
     "metadata": {},
     "output_type": "display_data"
    },
    {
     "data": {
      "image/png": "[encoded data removed]",
      "text/plain": [
       "<Figure size 1296x576 with 5 Axes>"
      ]
     },
     "metadata": {},
     "output_type": "display_data"
    }
   ],
   "source": [
    "# Visualization of data\n",
    "for for_1 in range(5):\n",
    "    fig, ax = plt.subplots(1, 5, figsize=(18, 8))\n",
    "    for for_2 in range(5):\n",
    "        ax[for_2].imshow(img_list[for_1][for_2],cmap='gray') #Outputs the nth and subsequent test data with the value of for_2 + n\n",
    "        ax[for_2].set_title(label[for_1])\n",
    "        ax[for_2].axis('off')"
   ]
  },
  {
   "cell_type": "code",
   "execution_count": 11,
   "metadata": {},
   "outputs": [],
   "source": [
    "y_train=keras.utils.to_categorical(y_train,num_classes)\n",
    "y_val=keras.utils.to_categorical(y_val,num_classes)\n",
    "y_test=keras.utils.to_categorical(y_test,num_classes)"
   ]
  },
  {
   "cell_type": "code",
   "execution_count": 12,
   "metadata": {},
   "outputs": [],
   "source": [
    "img_rows, img_cols = 288,432\n",
    "img_channels = 1\n",
    "# Adjustment of input type of dimension number due to difference of backend\n",
    "\n",
    "if K.image_data_format() == 'channels_first':\n",
    "    x_train = x_train.reshape(x_train.shape[0], 1, img_rows, img_cols)\n",
    "    x_val = x_val.reshape(x_val.shape[0], 1, img_rows, img_cols)\n",
    "    x_test = x_test.reshape(x_test.shape[0], 1, img_rows, img_cols)\n",
    "    input_shape = (1, img_rows, img_cols)\n",
    "else:\n",
    "    x_train = x_train.reshape(x_train.shape[0], img_rows, img_cols, 1)\n",
    "    x_val = x_val.reshape(x_val.shape[0], img_rows, img_cols, 1)\n",
    "    x_test = x_test.reshape(x_test.shape[0], img_rows, img_cols, 1)\n",
    "    input_shape = (img_rows, img_cols, 1)"
   ]
  },
  {
   "cell_type": "code",
   "execution_count": 13,
   "metadata": {},
   "outputs": [],
   "source": [
    "model4 = Sequential()\n",
    "model4.add(Conv2D(32, kernel_size=(8, 8), activation=\"relu\", input_shape=input_shape))\n",
    "model4.add(MaxPooling2D(pool_size=(4,4)))\n",
    "model4.add(Conv2D(32, kernel_size=(6, 6), activation=\"relu\"))\n",
    "model4.add(MaxPooling2D(pool_size=(3,3)))\n",
    "model4.add(Conv2D(64, kernel_size=(6, 6), activation=\"relu\"))\n",
    "model4.add(MaxPooling2D(pool_size=(3,3)))\n",
    "model4.add(Conv2D(64, kernel_size=(4, 4), activation=\"relu\"))\n",
    "model4.add(MaxPooling2D(pool_size=(2,2)))\n",
    "\n",
    "model4.add(Flatten())\n",
    "model4.add(Dense(256, activation='relu'))\n",
    "model4.add(Dropout(0.5))\n",
    "model4.add(Dense(5, activation='softmax'))"
   ]
  },
  {
   "cell_type": "code",
   "execution_count": 14,
   "metadata": {},
   "outputs": [
    {
     "name": "stdout",
     "output_type": "stream",
     "text": [
      "_________________________________________________________________\n",
      "Layer (type)                 Output Shape              Param #   \n",
      "=================================================================\n",
      "conv2d_1 (Conv2D)            (None, 281, 425, 32)      2080      \n",
      "_________________________________________________________________\n",
      "max_pooling2d_1 (MaxPooling2 (None, 70, 106, 32)       0         \n",
      "_________________________________________________________________\n",
      "conv2d_2 (Conv2D)            (None, 65, 101, 32)       36896     \n",
      "_________________________________________________________________\n",
      "max_pooling2d_2 (MaxPooling2 (None, 21, 33, 32)        0         \n",
      "_________________________________________________________________\n",
      "conv2d_3 (Conv2D)            (None, 16, 28, 64)        73792     \n",
      "_________________________________________________________________\n",
      "max_pooling2d_3 (MaxPooling2 (None, 5, 9, 64)          0         \n",
      "_________________________________________________________________\n",
      "conv2d_4 (Conv2D)            (None, 2, 6, 64)          65600     \n",
      "_________________________________________________________________\n",
      "max_pooling2d_4 (MaxPooling2 (None, 1, 3, 64)          0         \n",
      "_________________________________________________________________\n",
      "flatten_1 (Flatten)          (None, 192)               0         \n",
      "_________________________________________________________________\n",
      "dense_1 (Dense)              (None, 256)               49408     \n",
      "_________________________________________________________________\n",
      "dropout_1 (Dropout)          (None, 256)               0         \n",
      "_________________________________________________________________\n",
      "dense_2 (Dense)              (None, 5)                 1285      \n",
      "=================================================================\n",
      "Total params: 229,061\n",
      "Trainable params: 229,061\n",
      "Non-trainable params: 0\n",
      "_________________________________________________________________\n"
     ]
    }
   ],
   "source": [
    "model4.summary()"
   ]
  },
  {
   "cell_type": "markdown",
   "metadata": {},
   "source": [
    "## Set model optimization function and error function"
   ]
  },
  {
   "cell_type": "code",
   "execution_count": 15,
   "metadata": {},
   "outputs": [],
   "source": [
    "from keras.optimizers import SGD, Adadelta, Adam, RMSprop\n",
    "\n",
    "# model.compile(loss='categorical_crossentropy', \n",
    "#               optimizer='SGD', \n",
    "#               metrics=['accuracy'])\n",
    "model4.compile(loss=\"categorical_crossentropy\", # 誤差(損失)関数\n",
    "             optimizer=\"adam\", # 最適化関数\n",
    "             metrics=[\"accuracy\"] # 評価指標\n",
    "             )"
   ]
  },
  {
   "cell_type": "markdown",
   "metadata": {},
   "source": [
    "## Save model and parameters"
   ]
  },
  {
   "cell_type": "code",
   "execution_count": 16,
   "metadata": {},
   "outputs": [
    {
     "data": {
      "text/plain": [
       "4446"
      ]
     },
     "execution_count": 16,
     "metadata": {},
     "output_type": "execute_result"
    }
   ],
   "source": [
    "#Save model in JSON format\n",
    "json_string = model4.to_json()\n",
    "open('./sound5.json', 'w').write(json_string)"
   ]
  },
  {
   "cell_type": "code",
   "execution_count": 17,
   "metadata": {},
   "outputs": [],
   "source": [
    "#Save initial weight\n",
    "model4.save_weights('./sound5.hdf5', overwrite=True)"
   ]
  },
  {
   "cell_type": "markdown",
   "metadata": {},
   "source": [
    "## Reading models and calling parameters"
   ]
  },
  {
   "cell_type": "code",
   "execution_count": 18,
   "metadata": {},
   "outputs": [],
   "source": [
    "# from keras.models import model_from_json, model_from_yaml\n",
    "# #Calling models saved in JSON format\n",
    "# json_string = open('./sound.json', 'r').read()\n",
    "# model = model_from_json(json_string)\n",
    "# model.load_weights('./sound.hdf5')"
   ]
  },
  {
   "cell_type": "markdown",
   "metadata": {},
   "source": [
    "## Learning"
   ]
  },
  {
   "cell_type": "code",
   "execution_count": 19,
   "metadata": {},
   "outputs": [],
   "source": [
    "#See progress of learning at TensorBoard\n",
    "tb_cb = keras.callbacks.TensorBoard(log_dir='./', histogram_freq=1)\n",
    "\n",
    "# If the validation loss decreases, save the model for each epoch\n",
    "cp_cb = keras.callbacks.ModelCheckpoint(filepath='./sound5.hdf5', \n",
    "                                        monitor='val_loss', \n",
    "                                        verbose=1, \n",
    "                                        save_best_only=True, \n",
    "                                        mode='auto')\n",
    "\n",
    "# If the validation loss rises for 5 epochs in a row, the run is aborted\n",
    "es_cb = keras.callbacks.EarlyStopping(monitor='val_loss', \n",
    "                                      patience=5, \n",
    "                                      verbose=0, \n",
    "                                      mode='auto')\n",
    "\n",
    "cbks = [tb_cb, cp_cb, es_cb]"
   ]
  },
  {
   "cell_type": "code",
   "execution_count": 20,
   "metadata": {},
   "outputs": [
    {
     "name": "stderr",
     "output_type": "stream",
     "text": [
      "/Users/jaejinan/.pyenv/versions/anaconda3-5.1.0/lib/python3.6/site-packages/ipykernel_launcher.py:8: UserWarning: The `nb_epoch` argument in `fit` has been renamed `epochs`.\n",
      "  \n"
     ]
    },
    {
     "name": "stdout",
     "output_type": "stream",
     "text": [
      "Train on 1600 samples, validate on 200 samples\n",
      "Epoch 1/50\n",
      "1600/1600 [==============================] - 182s 114ms/step - loss: 1.6117 - acc: 0.2044 - val_loss: 1.6211 - val_acc: 0.1250\n",
      "\n",
      "Epoch 00001: val_loss improved from inf to 1.62110, saving model to ./sound5.hdf5\n",
      "Epoch 2/50\n",
      "1600/1600 [==============================] - 184s 115ms/step - loss: 1.6084 - acc: 0.2225 - val_loss: 1.6162 - val_acc: 0.1250\n",
      "\n",
      "Epoch 00002: val_loss improved from 1.62110 to 1.61616, saving model to ./sound5.hdf5\n",
      "Epoch 3/50\n",
      "1600/1600 [==============================] - 175s 109ms/step - loss: 1.5897 - acc: 0.2288 - val_loss: 1.3717 - val_acc: 0.2950\n",
      "\n",
      "Epoch 00003: val_loss improved from 1.61616 to 1.37165, saving model to ./sound5.hdf5\n",
      "Epoch 4/50\n",
      "1600/1600 [==============================] - 168s 105ms/step - loss: 1.5806 - acc: 0.2662 - val_loss: 1.3932 - val_acc: 0.3250\n",
      "\n",
      "Epoch 00004: val_loss did not improve from 1.37165\n",
      "Epoch 5/50\n",
      "1600/1600 [==============================] - 178s 111ms/step - loss: 1.2810 - acc: 0.3769 - val_loss: 1.1364 - val_acc: 0.3900\n",
      "\n",
      "Epoch 00005: val_loss improved from 1.37165 to 1.13636, saving model to ./sound5.hdf5\n",
      "Epoch 6/50\n",
      "1600/1600 [==============================] - 177s 110ms/step - loss: 1.1315 - acc: 0.4813 - val_loss: 1.0636 - val_acc: 0.5200\n",
      "\n",
      "Epoch 00006: val_loss improved from 1.13636 to 1.06361, saving model to ./sound5.hdf5\n",
      "Epoch 7/50\n",
      "1600/1600 [==============================] - 234s 146ms/step - loss: 1.1128 - acc: 0.4725 - val_loss: 1.0057 - val_acc: 0.5450\n",
      "\n",
      "Epoch 00007: val_loss improved from 1.06361 to 1.00569, saving model to ./sound5.hdf5\n",
      "Epoch 8/50\n",
      "1600/1600 [==============================] - 268s 167ms/step - loss: 1.0630 - acc: 0.5138 - val_loss: 0.9889 - val_acc: 0.5400\n",
      "\n",
      "Epoch 00008: val_loss improved from 1.00569 to 0.98892, saving model to ./sound5.hdf5\n",
      "Epoch 9/50\n",
      "1600/1600 [==============================] - 258s 161ms/step - loss: 1.0649 - acc: 0.4963 - val_loss: 0.9252 - val_acc: 0.6350\n",
      "\n",
      "Epoch 00009: val_loss improved from 0.98892 to 0.92516, saving model to ./sound5.hdf5\n",
      "Epoch 10/50\n",
      "1600/1600 [==============================] - 256s 160ms/step - loss: 1.0094 - acc: 0.5306 - val_loss: 0.9127 - val_acc: 0.6000\n",
      "\n",
      "Epoch 00010: val_loss improved from 0.92516 to 0.91273, saving model to ./sound5.hdf5\n",
      "Epoch 11/50\n",
      "1600/1600 [==============================] - 249s 156ms/step - loss: 1.0016 - acc: 0.5331 - val_loss: 1.0630 - val_acc: 0.4900\n",
      "\n",
      "Epoch 00011: val_loss did not improve from 0.91273\n",
      "Epoch 12/50\n",
      "1600/1600 [==============================] - 253s 158ms/step - loss: 0.9946 - acc: 0.5463 - val_loss: 0.9528 - val_acc: 0.6150\n",
      "\n",
      "Epoch 00012: val_loss did not improve from 0.91273\n",
      "Epoch 13/50\n",
      "1600/1600 [==============================] - 172s 108ms/step - loss: 0.9230 - acc: 0.5687 - val_loss: 0.8657 - val_acc: 0.5900\n",
      "\n",
      "Epoch 00013: val_loss improved from 0.91273 to 0.86574, saving model to ./sound5.hdf5\n",
      "Epoch 14/50\n",
      "1600/1600 [==============================] - 173s 108ms/step - loss: 0.8970 - acc: 0.5763 - val_loss: 0.7935 - val_acc: 0.6350\n",
      "\n",
      "Epoch 00014: val_loss improved from 0.86574 to 0.79354, saving model to ./sound5.hdf5\n",
      "Epoch 15/50\n",
      "1600/1600 [==============================] - 173s 108ms/step - loss: 0.8793 - acc: 0.5950 - val_loss: 0.7897 - val_acc: 0.6100\n",
      "\n",
      "Epoch 00015: val_loss improved from 0.79354 to 0.78966, saving model to ./sound5.hdf5\n",
      "Epoch 16/50\n",
      "1600/1600 [==============================] - 172s 108ms/step - loss: 0.7528 - acc: 0.6481 - val_loss: 0.7486 - val_acc: 0.6700\n",
      "\n",
      "Epoch 00016: val_loss improved from 0.78966 to 0.74864, saving model to ./sound5.hdf5\n",
      "Epoch 17/50\n",
      "1600/1600 [==============================] - 162s 101ms/step - loss: 0.7397 - acc: 0.6700 - val_loss: 0.6452 - val_acc: 0.6950\n",
      "\n",
      "Epoch 00017: val_loss improved from 0.74864 to 0.64519, saving model to ./sound5.hdf5\n",
      "Epoch 18/50\n",
      "1600/1600 [==============================] - 158s 98ms/step - loss: 0.5980 - acc: 0.7294 - val_loss: 0.5823 - val_acc: 0.7300\n",
      "\n",
      "Epoch 00018: val_loss improved from 0.64519 to 0.58231, saving model to ./sound5.hdf5\n",
      "Epoch 19/50\n",
      "1600/1600 [==============================] - 156s 97ms/step - loss: 0.4497 - acc: 0.8137 - val_loss: 0.6267 - val_acc: 0.7250\n",
      "\n",
      "Epoch 00019: val_loss did not improve from 0.58231\n",
      "Epoch 20/50\n",
      "1600/1600 [==============================] - 163s 102ms/step - loss: 0.3659 - acc: 0.8550 - val_loss: 0.5818 - val_acc: 0.7600\n",
      "\n",
      "Epoch 00020: val_loss improved from 0.58231 to 0.58178, saving model to ./sound5.hdf5\n",
      "Epoch 21/50\n",
      "1600/1600 [==============================] - 172s 108ms/step - loss: 0.3786 - acc: 0.8531 - val_loss: 0.8429 - val_acc: 0.6800\n",
      "\n",
      "Epoch 00021: val_loss did not improve from 0.58178\n",
      "Epoch 22/50\n",
      "1600/1600 [==============================] - 174s 109ms/step - loss: 0.2443 - acc: 0.9125 - val_loss: 0.7991 - val_acc: 0.6850\n",
      "\n",
      "Epoch 00022: val_loss did not improve from 0.58178\n",
      "Epoch 23/50\n",
      "1600/1600 [==============================] - 162s 101ms/step - loss: 0.3148 - acc: 0.8812 - val_loss: 0.6916 - val_acc: 0.7550\n",
      "\n",
      "Epoch 00023: val_loss did not improve from 0.58178\n",
      "Epoch 24/50\n",
      "1600/1600 [==============================] - 173s 108ms/step - loss: 0.1986 - acc: 0.9263 - val_loss: 0.5348 - val_acc: 0.8150\n",
      "\n",
      "Epoch 00024: val_loss improved from 0.58178 to 0.53477, saving model to ./sound5.hdf5\n",
      "Epoch 25/50\n",
      "1600/1600 [==============================] - 173s 108ms/step - loss: 0.0825 - acc: 0.9788 - val_loss: 0.6765 - val_acc: 0.8100\n",
      "\n",
      "Epoch 00025: val_loss did not improve from 0.53477\n",
      "Epoch 26/50\n",
      "1600/1600 [==============================] - 174s 109ms/step - loss: 0.0639 - acc: 0.9813 - val_loss: 0.7103 - val_acc: 0.8000\n",
      "\n",
      "Epoch 00026: val_loss did not improve from 0.53477\n",
      "Epoch 27/50\n",
      "1600/1600 [==============================] - 174s 109ms/step - loss: 0.0610 - acc: 0.9819 - val_loss: 0.6986 - val_acc: 0.8250\n",
      "\n",
      "Epoch 00027: val_loss did not improve from 0.53477\n",
      "Epoch 28/50\n",
      "1600/1600 [==============================] - 158s 99ms/step - loss: 0.0437 - acc: 0.9881 - val_loss: 0.8909 - val_acc: 0.8100\n",
      "\n",
      "Epoch 00028: val_loss did not improve from 0.53477\n",
      "Epoch 29/50\n",
      "1600/1600 [==============================] - 154s 96ms/step - loss: 0.0473 - acc: 0.9862 - val_loss: 0.7065 - val_acc: 0.8250\n",
      "\n",
      "Epoch 00029: val_loss did not improve from 0.53477\n"
     ]
    }
   ],
   "source": [
    "#Perform learning\n",
    "#The value of loss function in learning is stored in history.history\n",
    "history4 = model4.fit(x_train, y_train,\n",
    "                    batch_size=32,  #128 datas are randomly obtained\n",
    "                    nb_epoch=50, #Number of trials\n",
    "                    verbose=1,\n",
    "                    validation_data=(x_val, y_val),\n",
    "                    callbacks=cbks\n",
    "                    )"
   ]
  },
  {
   "cell_type": "markdown",
   "metadata": {},
   "source": [
    "## Calling the best parameter"
   ]
  },
  {
   "cell_type": "code",
   "execution_count": 21,
   "metadata": {},
   "outputs": [],
   "source": [
    "model4.load_weights('./sound5.hdf5')"
   ]
  },
  {
   "cell_type": "markdown",
   "metadata": {},
   "source": [
    "## Evaluation of learning result"
   ]
  },
  {
   "cell_type": "code",
   "execution_count": 22,
   "metadata": {},
   "outputs": [
    {
     "name": "stdout",
     "output_type": "stream",
     "text": [
      "Test score: 1.0308395379781723\n",
      "Test accuracy: 0.695\n"
     ]
    }
   ],
   "source": [
    "#Evaluation value for test data\n",
    "score = model4.evaluate(x_test, y_test, verbose=0)\n",
    "print('Test score:', score[0]) #The value of the loss function\n",
    "print('Test accuracy:', score[1]) #Accuracy (over 98%)"
   ]
  },
  {
   "cell_type": "code",
   "execution_count": 23,
   "metadata": {},
   "outputs": [
    {
     "data": {
      "image/png": "[encoded data removed]",
      "text/plain": [
       "<Figure size 864x432 with 2 Axes>"
      ]
     },
     "metadata": {},
     "output_type": "display_data"
    }
   ],
   "source": [
    "#Learning curve\n",
    "fig, ax = plt.subplots(1, 2, figsize=(12, 6))\n",
    "ax[0].set_title('Training performance (Loss)')\n",
    "ax[0].plot(history4.epoch, history4.history['loss'], label='loss')\n",
    "ax[0].plot(history4.epoch, history4.history['val_loss'], label='val_loss')\n",
    "ax[0].set(xlabel='Epoch', ylabel='Loss')\n",
    "ax[0].legend()\n",
    "\n",
    "ax[1].set_title('Training performance (Accuracy)')\n",
    "ax[1].plot(history4.epoch, history4.history['acc'], label='acc')\n",
    "ax[1].plot(history4.epoch, history4.history['val_acc'], label='val_acc')\n",
    "ax[1].set(xlabel='Epoch', ylabel='Accuracy')\n",
    "ax[1].legend(loc='best')\n",
    "\n",
    "plt.savefig('./5image_cnn.pdf', dpi=600)"
   ]
  },
  {
   "cell_type": "markdown",
   "metadata": {},
   "source": [
    "## Predictive visualization"
   ]
  },
  {
   "cell_type": "code",
   "execution_count": 24,
   "metadata": {},
   "outputs": [
    {
     "name": "stdout",
     "output_type": "stream",
     "text": [
      "Test accuracy: 0.85\n"
     ]
    }
   ],
   "source": [
    "Y_test_pred_pr = model4.predict(x_test)\n",
    "\n",
    "count=0\n",
    "cou = 0\n",
    "for for_1 in range(0,int(len(x_test)/5)):\n",
    "    count = count + 1\n",
    "    if(label[np.argmax(y_test[5*for_1])] == label[np.argmax(Y_test_pred_pr[5*for_1]+Y_test_pred_pr[5*for_1+1]+Y_test_pred_pr[5*for_1+2]+Y_test_pred_pr[5*for_1+3]+Y_test_pred_pr[5*for_1+4])]):\n",
    "        cou = cou + 1\n",
    "\n",
    "print('Test accuracy:',cou/count)        "
   ]
  },
  {
   "cell_type": "code",
   "execution_count": 25,
   "metadata": {},
   "outputs": [
    {
     "data": {
      "image/png": "[encoded data removed]",
      "text/plain": [
       "<Figure size 1296x576 with 9 Axes>"
      ]
     },
     "metadata": {},
     "output_type": "display_data"
    }
   ],
   "source": [
    "#Data visualization\n",
    "#The upper row is the correct label, and lower row is the guess label\n",
    "x_test_re = x_test.reshape(x_test.shape[0], img_rows, img_cols)\n",
    "fig, ax = plt.subplots(1, 9, figsize=(18, 8))\n",
    "for for_1 in range(0,9):\n",
    "    ax[for_1].imshow(x_test_re[5*for_1],cmap='gray') #Outputs the nth and subsequent test data with the value of for_2 + n\n",
    "    ax[for_1].set_title(\"real:\"+str(label[np.argmax(y_test[5*for_1])])+\"\\npred:\"+str(label[np.argmax(Y_test_pred_pr[5*for_1]+Y_test_pred_pr[5*for_1+1]+Y_test_pred_pr[5*for_1+2]+Y_test_pred_pr[5*for_1+3]+Y_test_pred_pr[5*for_1+4])]))\n",
    "    ax[for_1].axis('off')"
   ]
  },
  {
   "cell_type": "code",
   "execution_count": 26,
   "metadata": {},
   "outputs": [
    {
     "data": {
      "text/plain": [
       "<matplotlib.image.AxesImage at 0x1c820e9278>"
      ]
     },
     "execution_count": 26,
     "metadata": {},
     "output_type": "execute_result"
    },
    {
     "data": {
      "image/png": "[encoded data removed]",
      "text/plain": [
       "<Figure size 432x288 with 1 Axes>"
      ]
     },
     "metadata": {},
     "output_type": "display_data"
    }
   ],
   "source": [
    "#Predictive visualization\n",
    "#Numerals of images passed by Y axis, and X axis is estimated by neural network\n",
    "plt.imshow(Y_test_pred_pr[:20], cmap='gray', interpolation='nearest', vmin=0, vmax=1) #Y_test_predの範囲を変えることで予測の場所を変更できる"
   ]
  },
  {
   "cell_type": "code",
   "execution_count": 30,
   "metadata": {},
   "outputs": [
    {
     "name": "stdout",
     "output_type": "stream",
     "text": [
      "real: Lv0 pred: Lv0\n",
      "real: Lv0 pred: Lv0\n",
      "real: Lv4 pred: Lv4\n",
      "real: Lv1 pred: Lv2\n",
      "real: Lv1 pred: Lv2\n",
      "real: Lv4 pred: Lv4\n",
      "real: Lv4 pred: Lv4\n",
      "real: Lv1 pred: Lv1\n",
      "real: Lv4 pred: Lv4\n",
      "real: Lv2 pred: Lv2\n",
      "real: Lv3 pred: Lv3\n",
      "real: Lv2 pred: Lv2\n",
      "real: Lv1 pred: Lv1\n",
      "real: Lv0 pred: Lv0\n",
      "real: Lv4 pred: Lv4\n",
      "real: Lv4 pred: Lv4\n",
      "real: Lv4 pred: Lv4\n",
      "real: Lv0 pred: Lv0\n",
      "real: Lv3 pred: Lv3\n",
      "real: Lv3 pred: Lv3\n",
      "real: Lv4 pred: Lv4\n",
      "real: Lv0 pred: Lv1\n",
      "real: Lv0 pred: Lv0\n",
      "real: Lv4 pred: Lv4\n",
      "real: Lv0 pred: Lv0\n",
      "real: Lv1 pred: Lv1\n",
      "real: Lv1 pred: Lv1\n",
      "real: Lv2 pred: Lv2\n",
      "real: Lv1 pred: Lv1\n",
      "real: Lv0 pred: Lv1\n",
      "real: Lv3 pred: Lv3\n",
      "real: Lv0 pred: Lv0\n",
      "real: Lv4 pred: Lv4\n",
      "real: Lv0 pred: Lv1\n",
      "real: Lv1 pred: Lv1\n",
      "real: Lv4 pred: Lv4\n",
      "real: Lv2 pred: Lv4\n",
      "real: Lv0 pred: Lv0\n",
      "real: Lv1 pred: Lv1\n",
      "real: Lv3 pred: Lv3\n"
     ]
    }
   ],
   "source": [
    "for for_1 in range(0,int(len(x_test)/5)):\n",
    "    print(\"real:\",label[np.argmax(y_test[5*for_1])],\"pred:\",label[np.argmax(Y_test_pred_pr[5*for_1]+Y_test_pred_pr[5*for_1+1]+Y_test_pred_pr[5*for_1+2]+Y_test_pred_pr[5*for_1+3]+Y_test_pred_pr[5*for_1+4])])"
   ]
  },
  {
   "cell_type": "code",
   "execution_count": 32,
   "metadata": {},
   "outputs": [
    {
     "name": "stdout",
     "output_type": "stream",
     "text": [
      "[[ 8  3  0  0  0]\n",
      " [ 0  7  2  0  0]\n",
      " [ 0  0  3  0  1]\n",
      " [ 0  0  0  5  0]\n",
      " [ 0  0  0  0 11]]\n"
     ]
    }
   ],
   "source": [
    "from sklearn.metrics import confusion_matrix\n",
    "real = []\n",
    "pred = []\n",
    "\n",
    "for for_1 in range(0,int(len(x_test)/5)):\n",
    "    real.append(label[np.argmax(y_test[5*for_1])])\n",
    "    pred.append(label[np.argmax(Y_test_pred_pr[5*for_1]+Y_test_pred_pr[5*for_1+1]+Y_test_pred_pr[5*for_1+2]+Y_test_pred_pr[5*for_1+3]+Y_test_pred_pr[5*for_1+4])])\n",
    "    \n",
    "print(confusion_matrix(real, pred))"
   ]
  },
  {
   "cell_type": "code",
   "execution_count": null,
   "metadata": {},
   "outputs": [],
   "source": []
  }
 ],
 "metadata": {
  "kernelspec": {
   "display_name": "Python 3",
   "language": "python",
   "name": "python3"
  },
  "language_info": {
   "codemirror_mode": {
    "name": "ipython",
    "version": 3
   },
   "file_extension": ".py",
   "mimetype": "text/x-python",
   "name": "python",
   "nbconvert_exporter": "python",
   "pygments_lexer": "ipython3",
   "version": "3.6.4"
  }
 },
 "nbformat": 4,
 "nbformat_minor": 2
}
