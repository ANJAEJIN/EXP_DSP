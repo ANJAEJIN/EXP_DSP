{
 "cells": [
  {
   "cell_type": "markdown",
   "metadata": {},
   "source": [
    "## Import modules"
   ]
  },
  {
   "cell_type": "code",
   "execution_count": 2,
   "metadata": {},
   "outputs": [
    {
     "name": "stderr",
     "output_type": "stream",
     "text": [
      "/Users/jaejinan/.pyenv/versions/anaconda3-5.1.0/lib/python3.6/site-packages/h5py/__init__.py:36: FutureWarning: Conversion of the second argument of issubdtype from `float` to `np.floating` is deprecated. In future, it will be treated as `np.float64 == np.dtype(float).type`.\n",
      "  from ._conv import register_converters as _register_converters\n",
      "Using TensorFlow backend.\n"
     ]
    }
   ],
   "source": [
    "import numpy as np\n",
    "import os\n",
    "from numpy import linalg as LA\n",
    "import librosa\n",
    "import keras\n",
    "from keras.utils import np_utils\n",
    "from keras.models import Sequential\n",
    "from keras.layers import Conv1D,MaxPooling1D,Conv2D,MaxPooling2D,Dense,Flatten,Dropout\n",
    "from keras import backend as K\n",
    "import pandas as pd\n",
    "import cv2\n",
    "from PIL import Image\n",
    "import time\n",
    "%matplotlib inline\n",
    "import matplotlib.pyplot as plt\n",
    "from mpl_toolkits.mplot3d import Axes3D\n",
    "import random\n",
    "#from pylab import *\n",
    "import math"
   ]
  },
  {
   "cell_type": "markdown",
   "metadata": {},
   "source": [
    "## Reading models and calling parameters"
   ]
  },
  {
   "cell_type": "code",
   "execution_count": 44,
   "metadata": {},
   "outputs": [],
   "source": [
    "model_exam = Sequential()"
   ]
  },
  {
   "cell_type": "code",
   "execution_count": 45,
   "metadata": {},
   "outputs": [],
   "source": [
    "from keras.models import model_from_json, model_from_yaml\n",
    "#Calling models saved in JSON format\n",
    "json_string = open('./sound5.json', 'r').read()\n",
    "model_exam = model_from_json(json_string)\n",
    "model_exam.load_weights('./sound5.hdf5')"
   ]
  },
  {
   "cell_type": "code",
   "execution_count": 46,
   "metadata": {},
   "outputs": [],
   "source": [
    "from keras.optimizers import SGD, Adadelta, Adam, RMSprop\n",
    "\n",
    "model_exam.compile(loss=\"categorical_crossentropy\", # 誤差(損失)関数\n",
    "             optimizer=\"adam\", # 最適化関数\n",
    "             metrics=[\"accuracy\"] # 評価指標\n",
    "             )"
   ]
  },
  {
   "cell_type": "markdown",
   "metadata": {},
   "source": [
    "## Load row datas"
   ]
  },
  {
   "cell_type": "code",
   "execution_count": 49,
   "metadata": {},
   "outputs": [
    {
     "name": "stdout",
     "output_type": "stream",
     "text": [
      "['疲弊LV-4', '疲弊LV-3', '疲弊LV-2', '疲弊LV-0', '疲弊LV-1']\n"
     ]
    }
   ],
   "source": [
    "print(os.listdir(\"./BillData/\"))"
   ]
  },
  {
   "cell_type": "code",
   "execution_count": 13,
   "metadata": {},
   "outputs": [
    {
     "name": "stdout",
     "output_type": "stream",
     "text": [
      "['wavedata_S03DF_6', 'image']\n"
     ]
    }
   ],
   "source": [
    "data_arr = []\n",
    "levels=os.listdir(\"./exam/\")\n",
    "for a in levels:\n",
    "    try:\n",
    "        if (not a.startswith('.') and not a.startswith('i')):\n",
    "            num_arr = []\n",
    "            path_to_file = os.path.join(\"./exam/\"+a)\n",
    "            fd = open(path_to_file , 'r')\n",
    "            while True:\n",
    "                string = fd.readline()\n",
    "                if not string: break\n",
    "                data_arr.append(float(string[:-1]))\n",
    "            fd.close()\n",
    "    except AttributeError:\n",
    "        print(\"\")\n",
    "        \n",
    "#data_arr[level_num][file_num][numbers]\n",
    "#level_num : 0~4(5 classes)\n",
    "#file_num : 0~79(20*4 files)\n",
    "#numbers : 0~8799(8800 amplitudes)"
   ]
  },
  {
   "cell_type": "code",
   "execution_count": 14,
   "metadata": {},
   "outputs": [],
   "source": [
    "Datas=np.array(data_arr)"
   ]
  },
  {
   "cell_type": "markdown",
   "metadata": {},
   "source": [
    "## Graph Division5"
   ]
  },
  {
   "cell_type": "code",
   "execution_count": 16,
   "metadata": {},
   "outputs": [],
   "source": [
    "for c in range(0,5):\n",
    "    fig = plt.figure()\n",
    "    plt.plot(Datas[550*c:550*c+6599],antialiased=False,color='black',linewidth=0.5)\n",
    "    plt.axis([0,6600,-1,1])\n",
    "    plt.tick_params(labelbottom=False,labelleft=False,labelright=False,labeltop=False)\n",
    "    plt.tick_params(bottom=False,left=False,right=False,top=False)\n",
    "    plt.box(False)\n",
    "    plt.subplots_adjust(left=0,right=1,bottom=0,top=1)\n",
    "    plt.savefig('./exam/image/'+str(c+1)+'.png')\n",
    "    plt.close(fig)"
   ]
  },
  {
   "cell_type": "markdown",
   "metadata": {},
   "source": [
    "## Import and save images"
   ]
  },
  {
   "cell_type": "code",
   "execution_count": 20,
   "metadata": {},
   "outputs": [
    {
     "name": "stdout",
     "output_type": "stream",
     "text": [
      "4.png\n",
      "5.png\n",
      "2.png\n",
      "3.png\n",
      "1.png\n"
     ]
    }
   ],
   "source": [
    "data = []\n",
    "levels=os.listdir(\"./exam/image\")\n",
    "for a in levels:\n",
    "    try:\n",
    "        if not a.startswith('.'):\n",
    "            print(a)\n",
    "            path_to_file = os.path.join(\"./exam/image/\"+a)\n",
    "            image=cv2.imread(path_to_file)\n",
    "            gray = cv2.cvtColor(image, cv2.COLOR_BGR2GRAY)\n",
    "            image_from_array = Image.fromarray(gray)\n",
    "            data.append(np.array(image_from_array))\n",
    "    except AttributeError:\n",
    "        print(\"\")"
   ]
  },
  {
   "cell_type": "code",
   "execution_count": 22,
   "metadata": {},
   "outputs": [],
   "source": [
    "Exam=np.array(data)"
   ]
  },
  {
   "cell_type": "markdown",
   "metadata": {},
   "source": [
    "## Data preprocessing"
   ]
  },
  {
   "cell_type": "code",
   "execution_count": 32,
   "metadata": {},
   "outputs": [],
   "source": [
    "x_exam = Exam.astype('float32')/255"
   ]
  },
  {
   "cell_type": "code",
   "execution_count": 42,
   "metadata": {},
   "outputs": [],
   "source": [
    "#preparing label name\n",
    "label = np.array([\n",
    "    'Lv4',\n",
    "    'Lv3',\n",
    "    'Lv2',\n",
    "    'Lv0',\n",
    "    'Lv1'])"
   ]
  },
  {
   "cell_type": "code",
   "execution_count": 43,
   "metadata": {},
   "outputs": [],
   "source": [
    "img_rows, img_cols = 288,432\n",
    "img_channels = 1\n",
    "# Adjustment of input type of dimension number due to difference of backend\n",
    "\n",
    "if K.image_data_format() == 'channels_first':\n",
    "    x_exam = x_exam.reshape(x_exam.shape[0], 1, img_rows, img_cols)\n",
    "    input_shape = (1, img_rows, img_cols)\n",
    "else:\n",
    "    x_exam = x_exam.reshape(x_exam.shape[0], img_rows, img_cols, 1)\n",
    "    input_shape = (img_rows, img_cols, 1)"
   ]
  },
  {
   "cell_type": "markdown",
   "metadata": {},
   "source": [
    "## Predictive visualization"
   ]
  },
  {
   "cell_type": "code",
   "execution_count": 47,
   "metadata": {},
   "outputs": [],
   "source": [
    "Y_exam_pred = model_exam.predict(x_exam)"
   ]
  },
  {
   "cell_type": "code",
   "execution_count": 56,
   "metadata": {},
   "outputs": [
    {
     "data": {
      "text/plain": [
       "<matplotlib.image.AxesImage at 0x1c345fa1d0>"
      ]
     },
     "execution_count": 56,
     "metadata": {},
     "output_type": "execute_result"
    },
    {
     "data": {
      "image/png": "[encoded data removed]",
      "text/plain": [
       "<Figure size 432x288 with 1 Axes>"
      ]
     },
     "metadata": {},
     "output_type": "display_data"
    }
   ],
   "source": [
    "#Predictive visualization\n",
    "#Numerals of images passed by Y axis, and X axis is estimated by neural network\n",
    "\n",
    "plt.imshow(Y_exam_pred[:5], cmap='gray', interpolation='nearest', vmin=0, vmax=1)\n",
    "#plt.savefig(\"save.pdf\")"
   ]
  },
  {
   "cell_type": "code",
   "execution_count": 54,
   "metadata": {},
   "outputs": [
    {
     "name": "stdout",
     "output_type": "stream",
     "text": [
      "pred: Lv3\n"
     ]
    }
   ],
   "source": [
    "print(\"pred:\",label[np.argmax(Y_exam_pred[0]+Y_exam_pred[1]+Y_exam_pred[2]+Y_exam_pred[3]+Y_exam_pred[4])])"
   ]
  }
 ],
 "metadata": {
  "kernelspec": {
   "display_name": "Python 3",
   "language": "python",
   "name": "python3"
  },
  "language_info": {
   "codemirror_mode": {
    "name": "ipython",
    "version": 3
   },
   "file_extension": ".py",
   "mimetype": "text/x-python",
   "name": "python",
   "nbconvert_exporter": "python",
   "pygments_lexer": "ipython3",
   "version": "3.6.4"
  }
 },
 "nbformat": 4,
 "nbformat_minor": 2
}
